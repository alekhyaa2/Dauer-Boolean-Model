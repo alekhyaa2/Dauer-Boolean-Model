{
 "cells": [
  {
   "cell_type": "code",
   "execution_count": 17,
   "id": "3ab4c1c2",
   "metadata": {},
   "outputs": [
    {
     "data": {
      "text/plain": [
       "<function matplotlib.pyplot.show(close=None, block=None)>"
      ]
     },
     "execution_count": 17,
     "metadata": {},
     "output_type": "execute_result"
    },
    {
     "data": {
      "image/png": "[encoded data removed]",
      "text/plain": [
       "<Figure size 432x288 with 1 Axes>"
      ]
     },
     "metadata": {
      "needs_background": "light"
     },
     "output_type": "display_data"
    }
   ],
   "source": [
    "import pylab\n",
    "import boolean2\n",
    "from boolean2 import state, network, util, Model\n",
    "text = \"\"\"\n",
    "#initial values \n",
    "#daf-18 = daf-12 = daf-3 = daf-5 = din-1s = sod-3 = tph-1 = ins-18 = daf-16 = pheromone = srbc = True\n",
    "pheromone = True\n",
    "#updating rules\n",
    "\n",
    "aap-1 *= daf-2\n",
    "age-1 *= aap-1 and daf-18\n",
    "akt *= pdk-1\n",
    "daf-11 *= (not srbc and not gpa-3) and daf-25\n",
    "daf-2 *= ins-7 and (not ins-1 and not ins-18)\n",
    "daf-12 *= not daf-9\n",
    "daf-14 *= daf-8 and daf-1 and not pdp-1\n",
    "daf-21 *= daf-21 or daf-2\n",
    "daf-3 *= tph-1 or (not daf-8 and not daf-14)\n",
    "daf-36 *= nhr-8\n",
    "daf-37 *= pheromone\n",
    "daf-4 *= daf-7 and daf-21\n",
    "daf-5 *= daf-3\n",
    "din-1s *= daf-12\n",
    "odr-3 *= str-2\n",
    "pde *= cgmp or gpa-3\n",
    "pdk-1 *= age-1\n",
    "sod-3 *= daf-16 and not daf-2\n",
    "tax-4 *= cgmp and tax-2\n",
    "tph-1 *= not daf-7 and daf-3\n",
    "str-3 *= not pheromone\n",
    "str-2 *= not pheromone\n",
    "ins-7 *= daf-7 and not daf-16\n",
    "ins-18 *= daf-16\n",
    "daf-8 *= daf-8 and daf-1 and not pdp-1\n",
    "daf-9 *= daf-12 or (not dhs-16 and not daf-36) or ncr or hsd-1\n",
    "daf-7 *= daf-11 or cmk-1 or kin-8 or tax-4 or tph-1 or goa-1 or egl-30 or (not pheromone or not gpa-3)\n",
    "daf-28 *= daf-7 and daf-11 and cmk-1 and not daf-16\n",
    "daf-16 *= (daf-12 or daf-18 or daf-28 or ftt-2 or ifta-2 or swi-snf or daf-5) or (not ins-7 or not par-5 or not akt or not rle-1 or not tax-4 or not tph-1 or not hlh-30 or not odr-3)\n",
    "daf-15 *= not daf-16\n",
    "daf-1 *= (daf-4 and daf-7 and daf-21) or not bra-1\n",
    "pheromone *= daf-22\n",
    "ist-1 *= daf-2\n",
    "dauer *= daf-16 or din-1s\n",
    "srbc *= pheromone\n",
    "\"\"\"\n",
    "\n",
    "coll = util.Collector()\n",
    "for i in range(10):\n",
    "    sim = Model(mode='async', text=text)\n",
    "    sim.initialize(missing= util.randbool)\n",
    "    sim.iterate(steps=70)\n",
    "    coll.collect( states=sim.states, nodes=sim.nodes )\n",
    "\n",
    "avgs = coll.get_averages( normalize=True )\n",
    "#print(\"daf-2\",avgs[\"daf-2\"])\n",
    "#print(\"pheromone\",avgs[\"pheromone\"])\n",
    "\n",
    "#for state in sim.states:\n",
    " #   print(state.pheromone)\n",
    "#sim.report_cycles()\n",
    "#sim.detect_cycles()\n",
    "\n",
    "daf = pylab.plot(avgs[\"daf-2\"], 'ob-')\n",
    "dauer = pylab.plot(avgs[\"dauer\"], 'r.')\n",
    "pher = pylab.plot(avgs[\"pheromone\"], '^g-')\n",
    "pylab.ylim((-0.1, 1.1))\n",
    "pylab.show"
   ]
  },
  {
   "cell_type": "code",
   "execution_count": 16,
   "id": "7273183f",
   "metadata": {},
   "outputs": [
    {
     "data": {
      "text/plain": [
       "<function matplotlib.pyplot.show(close=None, block=None)>"
      ]
     },
     "execution_count": 16,
     "metadata": {},
     "output_type": "execute_result"
    },
    {
     "data": {
      "image/png": "[encoded data removed]",
      "text/plain": [
       "<Figure size 432x288 with 1 Axes>"
      ]
     },
     "metadata": {
      "needs_background": "light"
     },
     "output_type": "display_data"
    }
   ],
   "source": [
    "import pylab\n",
    "import boolean2\n",
    "from boolean2 import state, network, util, Model\n",
    "text = \"\"\"\n",
    "#initial values \n",
    "#daf-18 = daf-12 = daf-3 = daf-5 = din-1s = sod-3 = tph-1 = ins-18 = daf-16 = pheromone = srbc = True\n",
    "pheromone = False\n",
    "#updating rules\n",
    "\n",
    "aap-1 *= daf-2\n",
    "age-1 *= aap-1 and daf-18\n",
    "akt *= pdk-1\n",
    "daf-11 *= (not srbc and not gpa-3) and daf-25\n",
    "daf-2 *= ins-7 and (not ins-1 and not ins-18)\n",
    "daf-12 *= not daf-9\n",
    "daf-14 *= daf-8 and daf-1 and not pdp-1\n",
    "daf-21 *= daf-21 or daf-2\n",
    "daf-3 *= tph-1 or (not daf-8 and not daf-14)\n",
    "daf-36 *= nhr-8\n",
    "daf-37 *= pheromone\n",
    "daf-4 *= daf-7 and daf-21\n",
    "daf-5 *= daf-3\n",
    "din-1s *= daf-12\n",
    "odr-3 *= str-2\n",
    "pde *= cgmp or gpa-3\n",
    "pdk-1 *= age-1\n",
    "sod-3 *= daf-16 and not daf-2\n",
    "tax-4 *= cgmp and tax-2\n",
    "tph-1 *= not daf-7 and daf-3\n",
    "str-3 *= not pheromone\n",
    "str-2 *= not pheromone\n",
    "ins-7 *= daf-7 and not daf-16\n",
    "ins-18 *= daf-16\n",
    "daf-8 *= daf-8 and daf-1 and not pdp-1\n",
    "daf-9 *= daf-12 or (not dhs-16 and not daf-36) or ncr or hsd-1\n",
    "daf-7 *= daf-11 or cmk-1 or kin-8 or tax-4 or tph-1 or goa-1 or egl-30 or (not pheromone or not gpa-3)\n",
    "daf-28 *= daf-7 and daf-11 and cmk-1 and not daf-16\n",
    "daf-16 *= (daf-12 or daf-18 or daf-28 or ftt-2 or ifta-2 or swi-snf or daf-5) or (not ins-7 or not par-5 or not akt or not rle-1 or not tax-4 or not tph-1 or not hlh-30 or not odr-3)\n",
    "daf-15 *= not daf-16\n",
    "daf-1 *= (daf-4 and daf-7 and daf-21) or not bra-1\n",
    "pheromone *= daf-22\n",
    "ist-1 *= daf-2\n",
    "dauer *= daf-16 or din-1s\n",
    "srbc *= pheromone\n",
    "\"\"\"\n",
    "\n",
    "coll = util.Collector()\n",
    "for i in range(10):\n",
    "    sim = Model(mode='async', text=text)\n",
    "    sim.initialize(missing= util.randbool)\n",
    "    sim.iterate(steps=70)\n",
    "    coll.collect( states=sim.states, nodes=sim.nodes )\n",
    "\n",
    "avgs = coll.get_averages( normalize=True )\n",
    "#print(\"daf-2\",avgs[\"daf-2\"])\n",
    "#print(\"pheromone\",avgs[\"pheromone\"])\n",
    "\n",
    "#for state in sim.states:\n",
    " #   print(state.pheromone)\n",
    "#sim.report_cycles()\n",
    "#sim.detect_cycles()\n",
    "\n",
    "daf = pylab.plot(avgs[\"daf-2\"], 'ob-')\n",
    "dauer = pylab.plot(avgs[\"dauer\"], 'r.')\n",
    "pher = pylab.plot(avgs[\"pheromone\"], '^g-')\n",
    "pylab.ylim((-0.1, 1.1))\n",
    "pylab.show"
   ]
  },
  {
   "cell_type": "code",
   "execution_count": null,
   "id": "8a7afdb1",
   "metadata": {},
   "outputs": [],
   "source": []
  },
  {
   "cell_type": "code",
   "execution_count": 87,
   "id": "b6c0a510",
   "metadata": {},
   "outputs": [
    {
     "ename": "SyntaxError",
     "evalue": "invalid syntax (<ipython-input-87-a740edac37d1>, line 1)",
     "output_type": "error",
     "traceback": [
      "\u001b[0;36m  File \u001b[0;32m\"<ipython-input-87-a740edac37d1>\"\u001b[0;36m, line \u001b[0;32m1\u001b[0m\n\u001b[0;31m    aap-1=False, age-1=False, akt=False, bra-1=True, cgmp=False, cmk-1=True, daf-1=False, daf-11=False, daf-12=False, daf-14=False, daf-15=False, daf-16=True, daf-18=False, daf-2=False, daf-21=False, daf-22=True, daf-25=False, daf-28=False, daf-3=True, daf-36=True, daf-37=True, daf-4=False, daf-5=True, daf-7=True, daf-8=False, daf-9=True, dauer=True, dhs-16=False, din-1s=False, egl-30=True, ftt-2=True, goa-1=True, gpa-3=False, hlh-30=False, hsd-1=False, ifta-2=True, ins-1=False, ins-18=True, ins-7=False, ist-1=False, kin-8=False, ncr=True, nhr-8=True, odr-3=False, par-5=False, pde=False, pdk-1=False, pdp-1=True, pheromone=True, rle-1=False, sod-3=True, srbc=True, str-2=False, str-3=False, swi-snf=True, tax-2=True, tax-4=False, tph-1=False\u001b[0m\n\u001b[0m                                                                                                                                                                                                                                                                                                                                                                                    ^\u001b[0m\n\u001b[0;31mSyntaxError\u001b[0m\u001b[0;31m:\u001b[0m invalid syntax\n"
     ]
    }
   ],
   "source": [
    "aap-1=False, age-1=False, akt=False, bra-1=True, cgmp=False, cmk-1=True, daf-1=False, daf-11=False, daf-12=False, daf-14=False, daf-15=False, daf-16=True, daf-18=False, daf-2=False, daf-21=False, daf-22=True, daf-25=False, daf-28=False, daf-3=True, daf-36=True, daf-37=True, daf-4=False, daf-5=True, daf-7=True, daf-8=False, daf-9=True, dauer=True, dhs-16=False, din-1s=False, egl-30=True, ftt-2=True, goa-1=True, gpa-3=False, hlh-30=False, hsd-1=False, ifta-2=True, ins-1=False, ins-18=True, ins-7=False, ist-1=False, kin-8=False, ncr=True, nhr-8=True, odr-3=False, par-5=False, pde=False, pdk-1=False, pdp-1=True, pheromone=True, rle-1=False, sod-3=True, srbc=True, str-2=False, str-3=False, swi-snf=True, tax-2=True, tax-4=False, tph-1=False"
   ]
  },
  {
   "cell_type": "code",
   "execution_count": 30,
   "id": "a713e5b6",
   "metadata": {},
   "outputs": [],
   "source": [
    "text = \"\"\"\n",
    "A = True\n",
    "\n",
    "A *= B\n",
    "B *= C\n",
    "\"\"\"\n"
   ]
  },
  {
   "cell_type": "code",
   "execution_count": 43,
   "id": "e23cdfb9",
   "metadata": {},
   "outputs": [
    {
     "name": "stdout",
     "output_type": "stream",
     "text": [
      "- starting simulation with REPEAT=15, STEPS=10\n",
      "- completed\n"
     ]
    }
   ],
   "source": [
    "import boolean2\n",
    "from boolean2 import Model, util\n",
    "from random import choice\n",
    "\n",
    "#TARGETS = set( \"pheromone dauer\".split() )\n",
    "def new_getvalue( state, name, p):\n",
    "    \"\"\"\n",
    "    Called every time a node value is used in an expression. \n",
    "    It will override the value for the current step only.\n",
    "    Returns random values for the node states\n",
    "    \"\"\"\n",
    "    global TARGETS\n",
    "    value = util.default_get_value( state, name, p ) \n",
    "\n",
    "    if name in TARGETS:\n",
    "        # pick at random from True, False and original value\n",
    "        return choice( [True, False, value] )\n",
    "    else:\n",
    "        return value \n",
    "    \n",
    "def run( text, nodes, repeat, steps ):\n",
    "    \"\"\"\n",
    "    Runs the simulation and collects the nodes into a collector, \n",
    "    a convenience class that can average the values that it collects.\n",
    "    \"\"\"\n",
    "    coll = util.Collector()\n",
    "    \n",
    "    for i in range( repeat ):\n",
    "        engine  = Model( mode='async', text=text )\n",
    "        engine.RULE_GETVALUE = new_getvalue\n",
    "        #print(\"new_getvalue\", new_getvalue)\n",
    "        # minimalist initial conditions, missing nodes set to false\n",
    "        engine.initialize( missing=util.false )\n",
    "        engine.iterate( steps=steps)\n",
    "        coll.collect( states=engine.states, nodes=nodes )\n",
    "\n",
    "    print('- completed')\n",
    "    avgs = coll.get_averages( normalize=True )\n",
    "    return avgs\n",
    "\n",
    "if __name__ == '__main__':\n",
    "\n",
    "    # read in the text\n",
    "    #text = file( 'LGL.txt').read()\n",
    "\n",
    "    # the nodes of interest that are collected over the run\n",
    "    # NODES  = 'Apoptosis STAT3 FasL Ras'.split()\n",
    "    \n",
    "    # this collects the state of all nodes \n",
    "    NODES  = boolean2.all_nodes( text )\n",
    "\n",
    "    #\n",
    "    # raise this for better curves (will take about 2 seconds per repeat)\n",
    "    # plots were made for REPEAT = 1000, STEPS=150\n",
    "    #\n",
    "    REPEAT = 15\n",
    "    STEPS  = 10\n",
    "\n",
    "    data = []\n",
    "    \n",
    "    print('- starting simulation with REPEAT=%s, STEPS=%s' % (REPEAT, STEPS))\n",
    "\n",
    "    # a single overexpressed node\n",
    "    #mtext = boolean2.modify_states( text=text, turnon=['Stimuli'] )\n",
    "    avgs = run( text=text, repeat=REPEAT, nodes=NODES, steps=STEPS) \n",
    "    data.append( avgs )\n",
    "    \n",
    "#print(data.detect_cycles())\n",
    "    \n",
    "    #a = avgs[\"daf-\"]\n",
    "    #b = avgs[\"dauer\"]\n",
    "    \n",
    "    #print(\"a is\", a)\n",
    "    #print(\"b is\", b)\n",
    "    #print(avgs[\"A\"], avgs[\"B\"], avgs[\"C\"])\n",
    "    #fname = 'd1-run.bin'\n",
    "    #util.bsave( data, fname=fname )\n",
    "    #print('- data saved into %s' % fname)\n",
    "    #print(\"dauer ---\",avgs[\"dauer\"])\n",
    "    #print(\"pheromone is ----\", avgs[\"pheromone\"])\n",
    "    \n"
   ]
  },
  {
   "cell_type": "code",
   "execution_count": 47,
   "id": "5905993c",
   "metadata": {},
   "outputs": [
    {
     "ename": "AttributeError",
     "evalue": "'dict' object has no attribute 'report_cycles'",
     "output_type": "error",
     "traceback": [
      "\u001b[0;31m---------------------------------------------------------------------------\u001b[0m",
      "\u001b[0;31mAttributeError\u001b[0m                            Traceback (most recent call last)",
      "\u001b[0;32m<ipython-input-47-3b3234e1155c>\u001b[0m in \u001b[0;36m<module>\u001b[0;34m\u001b[0m\n\u001b[0;32m----> 1\u001b[0;31m \u001b[0mavgs\u001b[0m\u001b[0;34m.\u001b[0m\u001b[0mreport_cycles\u001b[0m\u001b[0;34m(\u001b[0m\u001b[0;34m)\u001b[0m\u001b[0;34m\u001b[0m\u001b[0;34m\u001b[0m\u001b[0m\n\u001b[0m",
      "\u001b[0;31mAttributeError\u001b[0m: 'dict' object has no attribute 'report_cycles'"
     ]
    }
   ],
   "source": [
    "avgs.report_cycles()"
   ]
  },
  {
   "cell_type": "code",
   "execution_count": 36,
   "id": "e176207d",
   "metadata": {},
   "outputs": [
    {
     "name": "stdout",
     "output_type": "stream",
     "text": [
      "False False False\n",
      "False False False\n",
      "False False False\n",
      "False False False\n",
      "False False False\n",
      "False False False\n",
      "False False False\n",
      "False False False\n",
      "False False False\n",
      "False False False\n",
      "False False False\n",
      "(0, 1)\n"
     ]
    }
   ],
   "source": [
    "text=\"\"\"\n",
    "\n",
    "A *= B\n",
    "B *= C\n",
    "C *= A\n",
    "\"\"\" \n",
    "eng = Model(text=text, mode='async')\n",
    "eng.initialize( missing=util.false )\n",
    "eng.iterate( steps=10)\n",
    "for state in eng.states:\n",
    "    print(state.A, state.B, state.C)\n",
    "    \n",
    "print(eng.detect_cycles())"
   ]
  },
  {
   "cell_type": "code",
   "execution_count": null,
   "id": "360b60a6",
   "metadata": {},
   "outputs": [],
   "source": []
  },
  {
   "cell_type": "code",
   "execution_count": null,
   "id": "38c35636",
   "metadata": {},
   "outputs": [],
   "source": []
  },
  {
   "cell_type": "code",
   "execution_count": 30,
   "id": "8363edd2",
   "metadata": {},
   "outputs": [
    {
     "name": "stderr",
     "output_type": "stream",
     "text": [
      "<ipython-input-30-5cc3d3fd8388>:5: UserWarning: Legend does not support [<matplotlib.lines.Line2D object at 0x7fc456e92670>] instances.\n",
      "A proxy artist may be used instead.\n",
      "See: https://matplotlib.org/users/legend_guide.html#creating-artists-specifically-for-adding-to-the-legend-aka-proxy-artists\n",
      "  pylab.legend( [p1, p2], [\"a\", \"b\"])\n",
      "<ipython-input-30-5cc3d3fd8388>:5: UserWarning: Legend does not support [<matplotlib.lines.Line2D object at 0x7fc458552130>] instances.\n",
      "A proxy artist may be used instead.\n",
      "See: https://matplotlib.org/users/legend_guide.html#creating-artists-specifically-for-adding-to-the-legend-aka-proxy-artists\n",
      "  pylab.legend( [p1, p2], [\"a\", \"b\"])\n"
     ]
    },
    {
     "data": {
      "image/png": "[encoded data removed]",
      "text/plain": [
       "<Figure size 432x288 with 1 Axes>"
      ]
     },
     "metadata": {
      "needs_background": "light"
     },
     "output_type": "display_data"
    },
    {
     "name": "stdout",
     "output_type": "stream",
     "text": [
      "[1.0, 1.0, 1.0, 1.0, 1.0, 1.0, 1.0, 1.0, 1.0, 1.0, 1.0, 1.0, 1.0, 1.0, 1.0, 1.0, 1.0, 1.0, 1.0, 1.0, 1.0, 1.0, 1.0, 1.0, 1.0, 1.0, 1.0, 1.0, 1.0, 1.0, 1.0, 1.0, 1.0, 1.0, 1.0, 1.0, 1.0, 1.0, 1.0, 1.0, 1.0, 1.0, 1.0, 1.0, 1.0, 1.0, 1.0, 1.0, 1.0, 1.0, 1.0, 1.0, 1.0, 1.0, 1.0, 1.0, 1.0, 1.0, 1.0, 1.0, 1.0, 1.0, 1.0, 1.0, 1.0, 1.0, 1.0, 1.0, 1.0, 1.0, 1.0, 1.0, 1.0, 1.0, 1.0, 1.0, 1.0, 1.0, 1.0, 1.0, 1.0, 1.0, 1.0, 1.0, 1.0, 1.0, 1.0, 1.0, 1.0, 1.0, 1.0, 1.0, 1.0, 1.0, 1.0, 1.0, 1.0, 1.0, 1.0, 1.0, 1.0]\n"
     ]
    }
   ],
   "source": [
    "import pylab\n",
    "\n",
    "p1 = pylab.plot(a, 'sr-')\n",
    "p2 = pylab.plot(b, 'ob-')\n",
    "pylab.legend( [p1, p2], [\"a\", \"b\"])\n",
    "\n",
    "pylab.show()\n",
    "#print(avgs[\"dauer\"])"
   ]
  },
  {
   "cell_type": "code",
   "execution_count": 15,
   "id": "ee0d26f1",
   "metadata": {},
   "outputs": [
    {
     "name": "stdout",
     "output_type": "stream",
     "text": [
      "False\n",
      "False\n",
      "True\n",
      "True\n",
      "True\n",
      "True\n",
      "True\n",
      "True\n",
      "True\n",
      "True\n",
      "True\n"
     ]
    }
   ],
   "source": [
    "from boolean2 import Model, util\n",
    "\n",
    "model = Model( text=text, mode ='async')\n",
    "model.initialize(missing = util.false )\n",
    "model.iterate (steps = 10)\n",
    "\n",
    "for state in model.states:\n",
    "    print(state.dauer)"
   ]
  },
  {
   "cell_type": "code",
   "execution_count": null,
   "id": "0f5c9997",
   "metadata": {},
   "outputs": [],
   "source": []
  },
  {
   "cell_type": "code",
   "execution_count": 16,
   "id": "4f1428a6",
   "metadata": {},
   "outputs": [
    {
     "name": "stdout",
     "output_type": "stream",
     "text": [
      "Steady state starting at index 2 -> State: aap-1=False, age-1=False, akt=False, bra-1=False, cgmp=False, cmk-1=False, daf-1=True, daf-11=False, daf-12=False, daf-14=False, daf-15=False, daf-16=True, daf-18=False, daf-2=False, daf-21=False, daf-22=False, daf-25=False, daf-28=False, daf-3=True, daf-36=False, daf-37=False, daf-4=False, daf-5=True, daf-7=True, daf-8=False, daf-9=True, dauer=True, dhs-16=False, din-1s=False, egl-30=False, ftt-2=False, goa-1=False, gpa-3=False, hlh-30=False, hsd-1=False, ifta-2=False, ins-1=False, ins-18=True, ins-7=False, ist-1=False, kin-8=False, ncr=False, nhr-8=False, odr-3=True, par-5=False, pde=False, pdk-1=False, pdp-1=False, pheromone=False, rle-1=False, sod-3=True, srbc=False, str-2=True, str-3=True, swi-snf=False, tax-2=False, tax-4=False, tph-1=False\n",
      "(2, 1)\n"
     ]
    }
   ],
   "source": [
    "model.report_cycles()\n",
    "print(model.detect_cycles())"
   ]
  },
  {
   "cell_type": "code",
   "execution_count": 25,
   "id": "45b282c7",
   "metadata": {},
   "outputs": [
    {
     "name": "stdout",
     "output_type": "stream",
     "text": [
      "{'daf-25': [0.0, 0.0, 0.0, 0.0, 0.0, 0.0], 'daf-9': [0.0, 1.0, 1.0, 1.0, 1.0, 1.0], 'srbc': [0.0, 0.0, 0.0, 0.0, 0.0, 0.0], 'daf-3': [0.0, 1.0, 1.0, 1.0, 1.0, 1.0], 'dhs-16': [0.0, 0.0, 0.0, 0.0, 0.0, 0.0], 'daf-15': [0.0, 0.6666666666666666, 0.0, 0.0, 0.0, 0.0], 'ncr': [0.0, 0.0, 0.0, 0.0, 0.0, 0.0], 'age-1': [0.0, 0.0, 0.0, 0.0, 0.0, 0.0], 'ins-1': [0.0, 0.0, 0.0, 0.0, 0.0, 0.0], 'daf-22': [0.0, 0.0, 0.0, 0.0, 0.0, 0.0], 'pdk-1': [0.0, 0.0, 0.0, 0.0, 0.0, 0.0], 'ins-18': [0.0, 0.3333333333333333, 1.0, 1.0, 1.0, 1.0], 'pdp-1': [0.0, 0.0, 0.0, 0.0, 0.0, 0.0], 'hsd-1': [0.0, 0.0, 0.0, 0.0, 0.0, 0.0], 'daf-12': [0.0, 0.6666666666666666, 0.0, 0.0, 0.0, 0.0], 'aap-1': [0.0, 0.0, 0.0, 0.0, 0.0, 0.0], 'pde': [0.0, 0.0, 0.0, 0.0, 0.0, 0.0], 'goa-1': [0.0, 0.0, 0.0, 0.0, 0.0, 0.0], 'gpa-3': [0.0, 0.0, 0.0, 0.0, 0.0, 0.0], 'swi-snf': [0.0, 0.0, 0.0, 0.0, 0.0, 0.0], 'daf-4': [0.0, 0.0, 0.0, 0.0, 0.0, 0.0], 'dauer': [0.0, 0.6666666666666666, 1.0, 1.0, 1.0, 1.0], 'hlh-30': [0.0, 0.0, 0.0, 0.0, 0.0, 0.0], 'tph-1': [0.0, 0.3333333333333333, 0.0, 0.0, 0.0, 0.0], 'tax-4': [0.0, 0.0, 0.0, 0.0, 0.0, 0.0], 'nhr-8': [0.0, 0.0, 0.0, 0.0, 0.0, 0.0], 'daf-36': [0.0, 0.0, 0.0, 0.0, 0.0, 0.0], 'daf-2': [0.0, 0.0, 0.0, 0.0, 0.0, 0.0], 'daf-1': [0.0, 1.0, 1.0, 1.0, 1.0, 1.0], 'daf-16': [0.0, 1.0, 1.0, 1.0, 1.0, 1.0], 'kin-8': [0.0, 0.0, 0.0, 0.0, 0.0, 0.0], 'daf-8': [0.0, 0.0, 0.0, 0.0, 0.0, 0.0], 'ifta-2': [0.0, 0.0, 0.0, 0.0, 0.0, 0.0], 'daf-21': [0.0, 0.0, 0.0, 0.0, 0.0, 0.0], 'rle-1': [0.0, 0.0, 0.0, 0.0, 0.0, 0.0], 'bra-1': [0.0, 0.0, 0.0, 0.0, 0.0, 0.0], 'daf-14': [0.0, 0.0, 0.0, 0.0, 0.0, 0.0], 'str-2': [0.0, 1.0, 1.0, 1.0, 1.0, 1.0], 'daf-5': [0.0, 0.0, 1.0, 1.0, 1.0, 1.0], 'ist-1': [0.0, 0.0, 0.0, 0.0, 0.0, 0.0], 'din-1s': [0.0, 0.6666666666666666, 0.0, 0.0, 0.0, 0.0], 'str-3': [0.0, 1.0, 1.0, 1.0, 1.0, 1.0], 'cmk-1': [0.0, 0.0, 0.0, 0.0, 0.0, 0.0], 'cgmp': [0.0, 0.0, 0.0, 0.0, 0.0, 0.0], 'egl-30': [0.0, 0.0, 0.0, 0.0, 0.0, 0.0], 'akt': [0.0, 0.0, 0.0, 0.0, 0.0, 0.0], 'daf-28': [0.0, 0.0, 0.0, 0.0, 0.0, 0.0], 'ins-7': [0.0, 0.0, 0.0, 0.0, 0.0, 0.0], 'par-5': [0.0, 0.0, 0.0, 0.0, 0.0, 0.0], 'daf-7': [0.0, 1.0, 1.0, 1.0, 1.0, 1.0], 'ftt-2': [0.0, 0.0, 0.0, 0.0, 0.0, 0.0], 'tax-2': [0.0, 0.0, 0.0, 0.0, 0.0, 0.0], 'pheromone': [0.0, 0.0, 0.0, 0.0, 0.0, 0.0], 'daf-37': [0.0, 0.0, 0.0, 0.0, 0.0, 0.0], 'odr-3': [0.0, 0.0, 1.0, 1.0, 1.0, 1.0], 'daf-11': [0.0, 0.0, 0.0, 0.0, 0.0, 0.0], 'sod-3': [0.0, 0.3333333333333333, 1.0, 1.0, 1.0, 1.0], 'daf-18': [0.0, 0.0, 0.0, 0.0, 0.0, 0.0]}\n"
     ]
    }
   ],
   "source": [
    "coll = util.Collector()\n",
    "\n",
    "for i in range(3):\n",
    "    model = Model (text=text, mode='async')\n",
    "    model.initialize(missing = util.false )\n",
    "    model.iterate(steps = 5)\n",
    "    \n",
    "    nodes = model.nodes\n",
    "    coll.collect(states=model.states, nodes=nodes)\n",
    "    \n",
    "avgs = coll.get_averages(normalize = True)\n",
    "print (avgs)"
   ]
  },
  {
   "cell_type": "code",
   "execution_count": 27,
   "id": "a4201c50",
   "metadata": {},
   "outputs": [
    {
     "name": "stderr",
     "output_type": "stream",
     "text": [
      "<ipython-input-27-705e5cfffbdb>:7: UserWarning: Legend does not support [<matplotlib.lines.Line2D object at 0x7fcd9010b5e0>] instances.\n",
      "A proxy artist may be used instead.\n",
      "See: https://matplotlib.org/users/legend_guide.html#creating-artists-specifically-for-adding-to-the-legend-aka-proxy-artists\n",
      "  pylab.legend( [p1,p2], [\"dauer\",\"pheromone\"])\n",
      "<ipython-input-27-705e5cfffbdb>:7: UserWarning: Legend does not support [<matplotlib.lines.Line2D object at 0x7fcd9010b940>] instances.\n",
      "A proxy artist may be used instead.\n",
      "See: https://matplotlib.org/users/legend_guide.html#creating-artists-specifically-for-adding-to-the-legend-aka-proxy-artists\n",
      "  pylab.legend( [p1,p2], [\"dauer\",\"pheromone\"])\n"
     ]
    },
    {
     "data": {
      "image/png": "[encoded data removed]",
      "text/plain": [
       "<Figure size 432x288 with 1 Axes>"
      ]
     },
     "metadata": {
      "needs_background": "light"
     },
     "output_type": "display_data"
    },
    {
     "name": "stdout",
     "output_type": "stream",
     "text": [
      "[0.0, 0.6666666666666666, 1.0, 1.0, 1.0, 1.0]\n"
     ]
    }
   ],
   "source": [
    "import pylab\n",
    "val1 = avgs[\"dauer\"]\n",
    "val2 = avgs[\"pheromone\"]\n",
    "\n",
    "p1 = pylab.plot(val1, 'ob-')\n",
    "p2 = pylab.plot(val2, 'sr-')\n",
    "pylab.legend( [p1,p2], [\"dauer\",\"pheromone\"])\n",
    "\n",
    "pylab.show()\n",
    "print(avgs[\"dauer\"])"
   ]
  },
  {
   "cell_type": "code",
   "execution_count": 2,
   "id": "64ce6c6a",
   "metadata": {},
   "outputs": [
    {
     "ename": "NameError",
     "evalue": "name 'Model' is not defined",
     "output_type": "error",
     "traceback": [
      "\u001b[0;31m---------------------------------------------------------------------------\u001b[0m",
      "\u001b[0;31mNameError\u001b[0m                                 Traceback (most recent call last)",
      "\u001b[0;32m<ipython-input-2-f26b99eb7fca>\u001b[0m in \u001b[0;36m<module>\u001b[0;34m\u001b[0m\n\u001b[0;32m----> 1\u001b[0;31m \u001b[0mmodel\u001b[0m \u001b[0;34m=\u001b[0m \u001b[0mModel\u001b[0m\u001b[0;34m(\u001b[0m \u001b[0mtext\u001b[0m\u001b[0;34m=\u001b[0m\u001b[0mtext\u001b[0m\u001b[0;34m,\u001b[0m \u001b[0mmode\u001b[0m\u001b[0;34m=\u001b[0m\u001b[0;34m'async'\u001b[0m\u001b[0;34m)\u001b[0m\u001b[0;34m\u001b[0m\u001b[0;34m\u001b[0m\u001b[0m\n\u001b[0m\u001b[1;32m      2\u001b[0m \u001b[0;34m\u001b[0m\u001b[0m\n\u001b[1;32m      3\u001b[0m \u001b[0;31m# generates all states, set limit to a value to keep only the first that many states\u001b[0m\u001b[0;34m\u001b[0m\u001b[0;34m\u001b[0m\u001b[0;34m\u001b[0m\u001b[0m\n\u001b[1;32m      4\u001b[0m \u001b[0;31m# when limit is a number it will take the first that many initial states\u001b[0m\u001b[0;34m\u001b[0m\u001b[0;34m\u001b[0m\u001b[0;34m\u001b[0m\u001b[0m\n\u001b[1;32m      5\u001b[0m \u001b[0minitializer\u001b[0m \u001b[0;34m=\u001b[0m \u001b[0mstate\u001b[0m\u001b[0;34m.\u001b[0m\u001b[0mall_initial_states\u001b[0m\u001b[0;34m(\u001b[0m \u001b[0mmodel\u001b[0m\u001b[0;34m.\u001b[0m\u001b[0mnodes\u001b[0m\u001b[0;34m,\u001b[0m \u001b[0mlimit\u001b[0m\u001b[0;34m=\u001b[0m\u001b[0;32mNone\u001b[0m \u001b[0;34m)\u001b[0m\u001b[0;34m\u001b[0m\u001b[0;34m\u001b[0m\u001b[0m\n",
      "\u001b[0;31mNameError\u001b[0m: name 'Model' is not defined"
     ]
    }
   ],
   "source": [
    "model = Model( text=text, mode='async')\n",
    "\n",
    "# generates all states, set limit to a value to keep only the first that many states\n",
    "# when limit is a number it will take the first that many initial states\n",
    "initializer = state.all_initial_states( model.nodes, limit=None )\n",
    "\n",
    "# the data is the inital data, the func is the initializer\n",
    "for data, initfunc in initializer:\n",
    "    # shows the initial values\n",
    "    print(data)\n",
    "    model.initialize(missing=initfunc)\n",
    "    model.iterate(5)"
   ]
  },
  {
   "cell_type": "code",
   "execution_count": null,
   "id": "18ca5345",
   "metadata": {},
   "outputs": [],
   "source": []
  }
 ],
 "metadata": {
  "kernelspec": {
   "display_name": "Python 3",
   "language": "python",
   "name": "python3"
  },
  "language_info": {
   "codemirror_mode": {
    "name": "ipython",
    "version": 3
   },
   "file_extension": ".py",
   "mimetype": "text/x-python",
   "name": "python",
   "nbconvert_exporter": "python",
   "pygments_lexer": "ipython3",
   "version": "3.8.8"
  }
 },
 "nbformat": 4,
 "nbformat_minor": 5
}
