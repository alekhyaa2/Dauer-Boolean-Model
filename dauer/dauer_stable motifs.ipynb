{
 "cells": [
  {
   "cell_type": "code",
   "execution_count": null,
   "id": "713606e1",
   "metadata": {},
   "outputs": [],
   "source": [
    "import pystablemotifs as sm\n",
    "import pyboolnet\n",
    "import pystablemotifs.export as ex\n",
    "import networkx as nx\n",
    "from timeit import default_timer"
   ]
  },
  {
   "cell_type": "code",
   "execution_count": null,
   "id": "1404c053",
   "metadata": {},
   "outputs": [],
   "source": [
    "rules_d='''\n",
    "\n",
    "dhs-16 *= daf-2\n",
    "daf-9 *= not dhs-16 or ncr or daf-12\n",
    "daf-12 *= not daf-9 or not daf-7\n",
    "daf-16 *= not akt or daf-12\n",
    "pdk-1 *= age-1\n",
    "age-1 *= aap-1\n",
    "aap-1 *= daf-2\n",
    "akt *= pdk-1 \n",
    "daf-2 *= (ins-7 and daf-28) or (not ins-1 or not ins-18)\n",
    "dauer *= daf-16 and daf-12 \n",
    "ins-7 *= daf-7 or not daf-16 \n",
    "daf-7 *= (tax-4 and cmk-1) and not hsf-1\n",
    "daf-11 *= not srbc \n",
    "daf-28 *= cmk-1 \n",
    "daf-5 *= daf-3 \n",
    "daf-3 *= not daf-8-14\n",
    "daf-8-14 *= daf-1-4\n",
    "daf-1-4 *= daf-7\n",
    "ins-1 *= daf-5\n",
    "hsf-1 *= not daf-2\n",
    "srbc *= pher\n",
    "tax-4 *= daf-11\n",
    "ins-18 *= daf-16\n",
    "'''\n"
   ]
  },
  {
   "cell_type": "code",
   "execution_count": null,
   "id": "c22af0d4",
   "metadata": {},
   "outputs": [],
   "source": [
    "primes_d = sm.format.create_primes(rules_d)\n",
    "sm.format.pretty_print_prime_rules(primes_d)\n"
   ]
  },
  {
   "cell_type": "code",
   "execution_count": null,
   "id": "6d160ec2",
   "metadata": {},
   "outputs": [],
   "source": [
    "#analyzing the network\n",
    "ar2 = sm.AttractorRepertoire.from_primes(primes_d, max_simulate_size=50)"
   ]
  },
  {
   "cell_type": "code",
   "execution_count": null,
   "id": "0a6cebee",
   "metadata": {},
   "outputs": [],
   "source": [
    "ar2.summary()"
   ]
  },
  {
   "cell_type": "code",
   "execution_count": null,
   "id": "cbc28807",
   "metadata": {},
   "outputs": [],
   "source": [
    "#finding unique stable motifs\n",
    "ar2.succession_diagram.get_motifs()"
   ]
  },
  {
   "cell_type": "code",
   "execution_count": null,
   "id": "3e58c3cc",
   "metadata": {},
   "outputs": [],
   "source": []
  },
  {
   "cell_type": "code",
   "execution_count": null,
   "id": "58abf808",
   "metadata": {},
   "outputs": [],
   "source": [
    "#computing driver sets - using stable motif histories that result in the set target, \n",
    "#identifies internal driver nodes and lists them as control sets\n",
    "\n",
    "start=default_timer()\n",
    "interventions = ar2.succession_diagram.reprogram_to_trap_spaces(logically_fixed=target,target_method='history',\n",
    "                                               driver_method='internal')\n",
    "end=default_timer()\n",
    "print(\"Run Time:\",end-start) \n",
    "print(\"Sets found:\")\n",
    "for x in interventions: print({k:v for k,v in sorted(x.items())})\n"
   ]
  },
  {
   "cell_type": "code",
   "execution_count": null,
   "id": "69868643",
   "metadata": {},
   "outputs": [],
   "source": [
    "# Determine which parts of the control set drive which stable motifs by comparing the overlap\n",
    "# Note that this can also be done \"by eye\" by comparing the control set with the succession diagram node or edge labels for small systems\n",
    "target_state={'hsf-1': 0, 'daf-7': 1, 'ins-7': 1, 'daf-2': 1}\n",
    "motifs = ar.succession_diagram.get_motifs()\n",
    "control_sets = ar.succession_diagram.reprogram_to_trap_spaces(logically_fixed=target_state,target_method='history',driver_method='internal')\n",
    "\n",
    "print(f'Displaying which control nodes are used to drive individual stable motifs in each control set for attaining {target_state}:\\n')\n",
    "for control_set in control_sets:\n",
    "    ldoi,_=sm.drivers.logical_domain_of_influence(control_set,primes) # determine which nodes are driven by this particular control set\n",
    "    for motif in motifs:\n",
    "        motif_drivers = motif.items() & control_set.items() # which control set nodes might drive the stable motif    \n",
    "        is_driver=sm.drivers.fixed_implies_implicant(ldoi,motif) # verify that the control set really does drive the stable motif\n",
    "    \n",
    "        # display\n",
    "        if len(motif_drivers) > 0 and is_driver:\n",
    "            print(f'{control_set=},{motif=},{motif_drivers=}')\n",
    "    print()\n",
    "    \n",
    "print(\"--------\")\n",
    "# Get a list of all possible internal driver nodes for each stable motif in the succession diagram \n",
    "# (this might be slow for large networks with many/big stable motifs)\n",
    "print(\"Displaying which internal driver node sets exist for all stable motifs:\")\n",
    "for motif in motifs:\n",
    "    print(f'all internal driver node sets for {motif}:')\n",
    "    for s in sm.drivers.internal_drivers(motif,primes):\n",
    "        print(f'\\t{s}')"
   ]
  },
  {
   "cell_type": "code",
   "execution_count": 9,
   "id": "1452ee87",
   "metadata": {},
   "outputs": [],
   "source": [
    "# define the target state and compute the control sets\n",
    "#target_state = {'daf-3': 0, 'daf-8-14': 1, 'hsf-1': 0, 'daf-7': 1, 'ins-1': 0, 'daf-5': 0, 'daf-1-4': 1, 'daf-2': 1}\n",
    "#target_state= {'aap-1': 0, 'age-1': 0, 'akt': 0, 'cmk-1': 0, 'daf-1-4': 0, 'daf-11': 0, 'daf-12': 1, 'daf-16': 1, 'daf-2': 0, 'daf-28': 0, 'daf-3': 1, 'daf-5': 1, 'daf-7': 0, 'daf-8-14': 0, 'daf-9': 1, 'dauer': 1, 'dhs-16': 0, 'hsf-1': 1, 'ins-1': 1, 'ins-18': 1, 'ins-7': 0, 'ncr': 0, 'pdk-1': 0, 'pher': 1, 'srbc': 1, 'tax-4': 0}\n",
    "\n",
    "target_state={'aap-1': 1, 'age-1': 1, 'akt': 1, 'cmk-1': 1, 'daf-1-4': 1, 'daf-11': 1, 'daf-12': 0, 'daf-16': 0, 'daf-2': 1, 'daf-28': 1, 'daf-3': 0, 'daf-5': 0, 'daf-7': 1, 'daf-8-14': 1, 'daf-9': 1, 'dauer': 0, 'dhs-16': 1, 'hsf-1': 0, 'ins-1': 0, 'ins-18': 0, 'ins-7': 1, 'ncr': 1, 'pdk-1': 1, 'pher': 0, 'srbc': 0, 'tax-4': 1}"
   ]
  },
  {
   "cell_type": "code",
   "execution_count": 11,
   "id": "e47d57ba",
   "metadata": {},
   "outputs": [
    {
     "name": "stdout",
     "output_type": "stream",
     "text": [
      "control sets are: [{'ncr': 1, 'cmk-1': 1, 'pher': 0, 'ins-7': 1}, {'ncr': 1, 'cmk-1': 1, 'pher': 0, 'hsf-1': 0}, {'ncr': 1, 'cmk-1': 1, 'pher': 0, 'daf-7': 1}, {'ncr': 1, 'cmk-1': 1, 'pher': 0, 'daf-2': 1}, {'ncr': 1, 'cmk-1': 1, 'pher': 0, 'daf-5': 0}, {'ncr': 1, 'cmk-1': 1, 'pher': 0, 'ins-1': 0}, {'ncr': 1, 'cmk-1': 1, 'pher': 0, 'daf-8-14': 1}, {'ncr': 1, 'cmk-1': 1, 'pher': 0, 'daf-3': 0}, {'ncr': 1, 'cmk-1': 1, 'pher': 0, 'daf-1-4': 1}, {'ncr': 1, 'cmk-1': 1, 'pher': 0, 'ins-18': 0}, {'ncr': 1, 'cmk-1': 1, 'pher': 0, 'daf-16': 0}, {'ncr': 1, 'cmk-1': 1, 'pher': 0, 'aap-1': 1, 'daf-12': 0}, {'ncr': 1, 'cmk-1': 1, 'pher': 0, 'daf-12': 0, 'pdk-1': 1}, {'ncr': 1, 'cmk-1': 1, 'pher': 0, 'daf-12': 0, 'age-1': 1}, {'ncr': 1, 'cmk-1': 1, 'pher': 0, 'daf-12': 0, 'akt': 1}]\n",
      "____\n",
      "stable motifs are: [{'daf-3': 1, 'ins-18': 1, 'daf-2': 0, 'daf-16': 1, 'daf-5': 1, 'daf-12': 1, 'ins-7': 0, 'daf-7': 0, 'ins-1': 1, 'hsf-1': 1, 'daf-1-4': 0, 'daf-8-14': 0}, {'daf-2': 1, 'hsf-1': 0, 'daf-3': 0, 'daf-7': 1, 'daf-1-4': 1, 'daf-8-14': 1, 'ins-1': 0, 'daf-5': 0}, {'pher': 0, 'cmk-1': 1, 'ncr': 0}, {'cmk-1': 0, 'pher': 1, 'ncr': 1}, {'daf-12': 0, 'daf-2': 1, 'hsf-1': 0, 'pdk-1': 1, 'ins-18': 0, 'daf-7': 1, 'aap-1': 1, 'akt': 1, 'age-1': 1, 'daf-16': 0}, {'pher': 1, 'cmk-1': 1, 'ncr': 1}, {'cmk-1': 1, 'ncr': 0, 'pher': 1}, {'cmk-1': 0, 'pher': 0, 'ncr': 0}, {'aap-1': 0, 'daf-3': 1, 'ins-18': 1, 'age-1': 0, 'daf-2': 0, 'daf-16': 1, 'daf-5': 1, 'pdk-1': 0, 'ins-7': 0, 'daf-7': 0, 'daf-8-14': 0, 'hsf-1': 1, 'ins-1': 1, 'daf-1-4': 0, 'akt': 0}, {'cmk-1': 0, 'ncr': 0, 'pher': 1}, {'cmk-1': 0, 'pher': 0, 'ncr': 1}, {'cmk-1': 1, 'pher': 0, 'ncr': 1}, {'hsf-1': 0, 'ins-7': 1, 'daf-2': 1, 'daf-7': 1}]\n"
     ]
    }
   ],
   "source": [
    "control_sets = ar2.succession_diagram.reprogram_to_trap_spaces(logically_fixed=target_state,target_method='history',driver_method='internal')\n",
    "\n",
    "print(\"control sets are:\", control_sets)\n",
    "print(\"____\")\n",
    "# get a list of stable motifs that appear in the succession diagram \n",
    "# (note that some of these are only be stable motifs in a system that has been reduced by substituting \"true\" stable motifs)\n",
    "motifs = ar2.succession_diagram.get_motifs()\n",
    "print(\"stable motifs are:\", motifs)\n"
   ]
  },
  {
   "cell_type": "code",
   "execution_count": 13,
   "id": "a8a99a8c",
   "metadata": {},
   "outputs": [
    {
     "name": "stdout",
     "output_type": "stream",
     "text": [
      "Displaying which control nodes are used to drive individual stable motifs in each control set for attaining {target_state}:\n",
      "\n",
      "control_set={'ncr': 1, 'cmk-1': 1, 'pher': 0, 'ins-7': 1},motif={'cmk-1': 1, 'pher': 0, 'ncr': 1},motif_drivers={('cmk-1', 1), ('pher', 0), ('ncr', 1)}\n",
      "control_set={'ncr': 1, 'cmk-1': 1, 'pher': 0, 'ins-7': 1},motif={'hsf-1': 0, 'ins-7': 1, 'daf-2': 1, 'daf-7': 1},motif_drivers={('ins-7', 1)}\n",
      "\n",
      "control_set={'ncr': 1, 'cmk-1': 1, 'pher': 0, 'hsf-1': 0},motif={'daf-2': 1, 'hsf-1': 0, 'daf-3': 0, 'daf-7': 1, 'daf-1-4': 1, 'daf-8-14': 1, 'ins-1': 0, 'daf-5': 0},motif_drivers={('hsf-1', 0)}\n",
      "control_set={'ncr': 1, 'cmk-1': 1, 'pher': 0, 'hsf-1': 0},motif={'daf-12': 0, 'daf-2': 1, 'hsf-1': 0, 'pdk-1': 1, 'ins-18': 0, 'daf-7': 1, 'aap-1': 1, 'akt': 1, 'age-1': 1, 'daf-16': 0},motif_drivers={('hsf-1', 0)}\n",
      "control_set={'ncr': 1, 'cmk-1': 1, 'pher': 0, 'hsf-1': 0},motif={'cmk-1': 1, 'pher': 0, 'ncr': 1},motif_drivers={('cmk-1', 1), ('pher', 0), ('ncr', 1)}\n",
      "control_set={'ncr': 1, 'cmk-1': 1, 'pher': 0, 'hsf-1': 0},motif={'hsf-1': 0, 'ins-7': 1, 'daf-2': 1, 'daf-7': 1},motif_drivers={('hsf-1', 0)}\n",
      "\n",
      "control_set={'ncr': 1, 'cmk-1': 1, 'pher': 0, 'daf-7': 1},motif={'daf-2': 1, 'hsf-1': 0, 'daf-3': 0, 'daf-7': 1, 'daf-1-4': 1, 'daf-8-14': 1, 'ins-1': 0, 'daf-5': 0},motif_drivers={('daf-7', 1)}\n",
      "control_set={'ncr': 1, 'cmk-1': 1, 'pher': 0, 'daf-7': 1},motif={'daf-12': 0, 'daf-2': 1, 'hsf-1': 0, 'pdk-1': 1, 'ins-18': 0, 'daf-7': 1, 'aap-1': 1, 'akt': 1, 'age-1': 1, 'daf-16': 0},motif_drivers={('daf-7', 1)}\n",
      "control_set={'ncr': 1, 'cmk-1': 1, 'pher': 0, 'daf-7': 1},motif={'cmk-1': 1, 'pher': 0, 'ncr': 1},motif_drivers={('cmk-1', 1), ('pher', 0), ('ncr', 1)}\n",
      "control_set={'ncr': 1, 'cmk-1': 1, 'pher': 0, 'daf-7': 1},motif={'hsf-1': 0, 'ins-7': 1, 'daf-2': 1, 'daf-7': 1},motif_drivers={('daf-7', 1)}\n",
      "\n",
      "control_set={'ncr': 1, 'cmk-1': 1, 'pher': 0, 'daf-2': 1},motif={'daf-2': 1, 'hsf-1': 0, 'daf-3': 0, 'daf-7': 1, 'daf-1-4': 1, 'daf-8-14': 1, 'ins-1': 0, 'daf-5': 0},motif_drivers={('daf-2', 1)}\n",
      "control_set={'ncr': 1, 'cmk-1': 1, 'pher': 0, 'daf-2': 1},motif={'daf-12': 0, 'daf-2': 1, 'hsf-1': 0, 'pdk-1': 1, 'ins-18': 0, 'daf-7': 1, 'aap-1': 1, 'akt': 1, 'age-1': 1, 'daf-16': 0},motif_drivers={('daf-2', 1)}\n",
      "control_set={'ncr': 1, 'cmk-1': 1, 'pher': 0, 'daf-2': 1},motif={'cmk-1': 1, 'pher': 0, 'ncr': 1},motif_drivers={('cmk-1', 1), ('pher', 0), ('ncr', 1)}\n",
      "control_set={'ncr': 1, 'cmk-1': 1, 'pher': 0, 'daf-2': 1},motif={'hsf-1': 0, 'ins-7': 1, 'daf-2': 1, 'daf-7': 1},motif_drivers={('daf-2', 1)}\n",
      "\n",
      "control_set={'ncr': 1, 'cmk-1': 1, 'pher': 0, 'daf-5': 0},motif={'daf-2': 1, 'hsf-1': 0, 'daf-3': 0, 'daf-7': 1, 'daf-1-4': 1, 'daf-8-14': 1, 'ins-1': 0, 'daf-5': 0},motif_drivers={('daf-5', 0)}\n",
      "control_set={'ncr': 1, 'cmk-1': 1, 'pher': 0, 'daf-5': 0},motif={'cmk-1': 1, 'pher': 0, 'ncr': 1},motif_drivers={('cmk-1', 1), ('pher', 0), ('ncr', 1)}\n",
      "\n",
      "control_set={'ncr': 1, 'cmk-1': 1, 'pher': 0, 'ins-1': 0},motif={'daf-2': 1, 'hsf-1': 0, 'daf-3': 0, 'daf-7': 1, 'daf-1-4': 1, 'daf-8-14': 1, 'ins-1': 0, 'daf-5': 0},motif_drivers={('ins-1', 0)}\n",
      "control_set={'ncr': 1, 'cmk-1': 1, 'pher': 0, 'ins-1': 0},motif={'cmk-1': 1, 'pher': 0, 'ncr': 1},motif_drivers={('cmk-1', 1), ('pher', 0), ('ncr', 1)}\n",
      "\n",
      "control_set={'ncr': 1, 'cmk-1': 1, 'pher': 0, 'daf-8-14': 1},motif={'daf-2': 1, 'hsf-1': 0, 'daf-3': 0, 'daf-7': 1, 'daf-1-4': 1, 'daf-8-14': 1, 'ins-1': 0, 'daf-5': 0},motif_drivers={('daf-8-14', 1)}\n",
      "control_set={'ncr': 1, 'cmk-1': 1, 'pher': 0, 'daf-8-14': 1},motif={'cmk-1': 1, 'pher': 0, 'ncr': 1},motif_drivers={('cmk-1', 1), ('pher', 0), ('ncr', 1)}\n",
      "\n",
      "control_set={'ncr': 1, 'cmk-1': 1, 'pher': 0, 'daf-3': 0},motif={'daf-2': 1, 'hsf-1': 0, 'daf-3': 0, 'daf-7': 1, 'daf-1-4': 1, 'daf-8-14': 1, 'ins-1': 0, 'daf-5': 0},motif_drivers={('daf-3', 0)}\n",
      "control_set={'ncr': 1, 'cmk-1': 1, 'pher': 0, 'daf-3': 0},motif={'cmk-1': 1, 'pher': 0, 'ncr': 1},motif_drivers={('cmk-1', 1), ('pher', 0), ('ncr', 1)}\n",
      "\n",
      "control_set={'ncr': 1, 'cmk-1': 1, 'pher': 0, 'daf-1-4': 1},motif={'daf-2': 1, 'hsf-1': 0, 'daf-3': 0, 'daf-7': 1, 'daf-1-4': 1, 'daf-8-14': 1, 'ins-1': 0, 'daf-5': 0},motif_drivers={('daf-1-4', 1)}\n",
      "control_set={'ncr': 1, 'cmk-1': 1, 'pher': 0, 'daf-1-4': 1},motif={'cmk-1': 1, 'pher': 0, 'ncr': 1},motif_drivers={('cmk-1', 1), ('pher', 0), ('ncr', 1)}\n",
      "\n",
      "control_set={'ncr': 1, 'cmk-1': 1, 'pher': 0, 'ins-18': 0},motif={'daf-12': 0, 'daf-2': 1, 'hsf-1': 0, 'pdk-1': 1, 'ins-18': 0, 'daf-7': 1, 'aap-1': 1, 'akt': 1, 'age-1': 1, 'daf-16': 0},motif_drivers={('ins-18', 0)}\n",
      "control_set={'ncr': 1, 'cmk-1': 1, 'pher': 0, 'ins-18': 0},motif={'cmk-1': 1, 'pher': 0, 'ncr': 1},motif_drivers={('cmk-1', 1), ('pher', 0), ('ncr', 1)}\n",
      "\n",
      "control_set={'ncr': 1, 'cmk-1': 1, 'pher': 0, 'daf-16': 0},motif={'daf-12': 0, 'daf-2': 1, 'hsf-1': 0, 'pdk-1': 1, 'ins-18': 0, 'daf-7': 1, 'aap-1': 1, 'akt': 1, 'age-1': 1, 'daf-16': 0},motif_drivers={('daf-16', 0)}\n",
      "control_set={'ncr': 1, 'cmk-1': 1, 'pher': 0, 'daf-16': 0},motif={'cmk-1': 1, 'pher': 0, 'ncr': 1},motif_drivers={('cmk-1', 1), ('pher', 0), ('ncr', 1)}\n",
      "\n",
      "control_set={'ncr': 1, 'cmk-1': 1, 'pher': 0, 'aap-1': 1, 'daf-12': 0},motif={'daf-12': 0, 'daf-2': 1, 'hsf-1': 0, 'pdk-1': 1, 'ins-18': 0, 'daf-7': 1, 'aap-1': 1, 'akt': 1, 'age-1': 1, 'daf-16': 0},motif_drivers={('daf-12', 0), ('aap-1', 1)}\n",
      "control_set={'ncr': 1, 'cmk-1': 1, 'pher': 0, 'aap-1': 1, 'daf-12': 0},motif={'cmk-1': 1, 'pher': 0, 'ncr': 1},motif_drivers={('cmk-1', 1), ('pher', 0), ('ncr', 1)}\n",
      "\n",
      "control_set={'ncr': 1, 'cmk-1': 1, 'pher': 0, 'daf-12': 0, 'pdk-1': 1},motif={'daf-12': 0, 'daf-2': 1, 'hsf-1': 0, 'pdk-1': 1, 'ins-18': 0, 'daf-7': 1, 'aap-1': 1, 'akt': 1, 'age-1': 1, 'daf-16': 0},motif_drivers={('daf-12', 0), ('pdk-1', 1)}\n",
      "control_set={'ncr': 1, 'cmk-1': 1, 'pher': 0, 'daf-12': 0, 'pdk-1': 1},motif={'cmk-1': 1, 'pher': 0, 'ncr': 1},motif_drivers={('cmk-1', 1), ('pher', 0), ('ncr', 1)}\n",
      "\n",
      "control_set={'ncr': 1, 'cmk-1': 1, 'pher': 0, 'daf-12': 0, 'age-1': 1},motif={'daf-12': 0, 'daf-2': 1, 'hsf-1': 0, 'pdk-1': 1, 'ins-18': 0, 'daf-7': 1, 'aap-1': 1, 'akt': 1, 'age-1': 1, 'daf-16': 0},motif_drivers={('daf-12', 0), ('age-1', 1)}\n",
      "control_set={'ncr': 1, 'cmk-1': 1, 'pher': 0, 'daf-12': 0, 'age-1': 1},motif={'cmk-1': 1, 'pher': 0, 'ncr': 1},motif_drivers={('cmk-1', 1), ('pher', 0), ('ncr', 1)}\n",
      "\n",
      "control_set={'ncr': 1, 'cmk-1': 1, 'pher': 0, 'daf-12': 0, 'akt': 1},motif={'daf-12': 0, 'daf-2': 1, 'hsf-1': 0, 'pdk-1': 1, 'ins-18': 0, 'daf-7': 1, 'aap-1': 1, 'akt': 1, 'age-1': 1, 'daf-16': 0},motif_drivers={('akt', 1), ('daf-12', 0)}\n",
      "control_set={'ncr': 1, 'cmk-1': 1, 'pher': 0, 'daf-12': 0, 'akt': 1},motif={'cmk-1': 1, 'pher': 0, 'ncr': 1},motif_drivers={('cmk-1', 1), ('pher', 0), ('ncr', 1)}\n",
      "\n",
      "--------\n"
     ]
    }
   ],
   "source": [
    "# Determine which parts of the control set drive which stable motifs by comparing the overlap\n",
    "# Note that this can also be done \"by eye\" by comparing the control set with the succession diagram node or edge labels for small systems\n",
    "print('Displaying which control nodes are used to drive individual stable motifs in each control set for attaining {target_state}:\\n')\n",
    "for control_set in control_sets:\n",
    "    ldoi,_=sm.drivers.logical_domain_of_influence(control_set,primes_d) # determine which nodes are driven by this particular control set\n",
    "    for motif in motifs:\n",
    "        motif_drivers = motif.items() & control_set.items() # which control set nodes might drive the stable motif    \n",
    "        is_driver=sm.drivers.fixed_implies_implicant(ldoi,motif) # verify that the control set really does drive the stable motif\n",
    "    \n",
    "        # display\n",
    "        if len(motif_drivers) > 0 and is_driver:\n",
    "            print(f'{control_set=},{motif=},{motif_drivers=}')\n",
    "    print()\n",
    "    \n",
    "print(\"--------\")"
   ]
  },
  {
   "cell_type": "code",
   "execution_count": null,
   "id": "a52b679f",
   "metadata": {},
   "outputs": [],
   "source": []
  },
  {
   "cell_type": "code",
   "execution_count": null,
   "id": "46c7ca90",
   "metadata": {},
   "outputs": [],
   "source": []
  }
 ],
 "metadata": {
  "kernelspec": {
   "display_name": "Python 3",
   "language": "python",
   "name": "python3"
  },
  "language_info": {
   "codemirror_mode": {
    "name": "ipython",
    "version": 3
   },
   "file_extension": ".py",
   "mimetype": "text/x-python",
   "name": "python",
   "nbconvert_exporter": "python",
   "pygments_lexer": "ipython3",
   "version": "3.8.5"
  }
 },
 "nbformat": 4,
 "nbformat_minor": 5
}
