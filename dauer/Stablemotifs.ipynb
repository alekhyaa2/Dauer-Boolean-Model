{
 "cells": [
  {
   "cell_type": "code",
   "execution_count": 1,
   "id": "d1132994",
   "metadata": {},
   "outputs": [],
   "source": [
    "import pystablemotifs as sm\n",
    "import pyboolnet\n",
    "import pystablemotifs.export as ex\n",
    "import pystablemotifs.reduction as re\n",
    "import networkx as nx\n",
    "from timeit import default_timer"
   ]
  },
  {
   "cell_type": "code",
   "execution_count": 2,
   "id": "04c55bca",
   "metadata": {},
   "outputs": [],
   "source": [
    "rules_d='''\n",
    "dhs-16 *= daf-2\n",
    "daf-9 *= not dhs-16 or ncr or daf-12\n",
    "daf-12 *= not daf-9 or not daf-7\n",
    "daf-16 *= not akt or daf-12\n",
    "pdk-1 *= age-1\n",
    "age-1 *= aap-1\n",
    "aap-1 *= daf-2\n",
    "akt *= pdk-1 \n",
    "daf-2 *= (ins-7 and daf-28) or (not ins-1 or not ins-18)\n",
    "dauer *= daf-16 and daf-12 \n",
    "ins-7 *= daf-7 or not daf-16 \n",
    "daf-7 *= (tax-4 and cmk-1) and not hsf-1\n",
    "daf-11 *= not srbc \n",
    "daf-28 *= cmk-1 \n",
    "daf-5 *= daf-3 \n",
    "daf-3 *= not daf-8-14\n",
    "daf-8-14 *= daf-1-4\n",
    "daf-1-4 *= daf-7\n",
    "ins-1 *= daf-5\n",
    "hsf-1 *= not daf-2\n",
    "srbc *= pher\n",
    "tax-4 *= daf-11\n",
    "ins-18 *= daf-16\n",
    "'''\n"
   ]
  },
  {
   "cell_type": "code",
   "execution_count": 11,
   "id": "b3943e1e",
   "metadata": {},
   "outputs": [],
   "source": [
    "#update rules for perturbing a specific node. # the boolean rule and set the node to either 1 or 0 towards the end. \n",
    "rules_k='''\n",
    "dhs-16 *= daf-2\n",
    "daf-9 *= not dhs-16 or ncr or daf-12\n",
    "daf-12 *= not daf-9 or not daf-7\n",
    "daf-16 *= not akt or daf-12\n",
    "pdk-1 *= age-1\n",
    "age-1 *= aap-1\n",
    "aap-1 *= daf-2\n",
    "akt *= pdk-1 \n",
    "#daf-2 *= (ins-7 and daf-28) or (not ins-1 or not ins-18)\n",
    "dauer *= daf-16 and daf-12 \n",
    "ins-7 *= daf-7 or not daf-16 \n",
    "daf-7 *= (tax-4 and cmk-1) and not hsf-1\n",
    "daf-11 *= not srbc \n",
    "daf-28 *= cmk-1 \n",
    "daf-5 *= daf-3 \n",
    "daf-3 *= not daf-8-14\n",
    "daf-8-14 *= daf-1-4\n",
    "daf-1-4 *= daf-7\n",
    "ins-1 *= daf-5\n",
    "hsf-1 *= not daf-2\n",
    "srbc *= pher\n",
    "tax-4 *= daf-11\n",
    "ins-18 *= daf-16\n",
    "daf-2 *= 0\n",
    "'''"
   ]
  },
  {
   "cell_type": "code",
   "execution_count": 3,
   "id": "bfb08ea1",
   "metadata": {},
   "outputs": [
    {
     "name": "stdout",
     "output_type": "stream",
     "text": [
      "aap-1* = daf-2\n",
      "age-1* = aap-1\n",
      "akt* = pdk-1\n",
      "cmk-1* = cmk-1\n",
      "daf-1-4* = daf-7\n",
      "daf-11* = !srbc\n",
      "daf-12* = !daf-9 | !daf-7\n",
      "daf-16* = daf-12 | !akt\n",
      "daf-2* = daf-28 & ins-7 | !ins-18 | !ins-1\n",
      "daf-28* = cmk-1\n",
      "daf-3* = !daf-8-14\n",
      "daf-5* = daf-3\n",
      "daf-7* = cmk-1 & !hsf-1 & tax-4\n",
      "daf-8-14* = daf-1-4\n",
      "daf-9* = ncr | !dhs-16 | daf-12\n",
      "dauer* = daf-12 & daf-16\n",
      "dhs-16* = daf-2\n",
      "hsf-1* = !daf-2\n",
      "ins-1* = daf-5\n",
      "ins-18* = daf-16\n",
      "ins-7* = daf-7 | !daf-16\n",
      "ncr* = ncr\n",
      "pdk-1* = age-1\n",
      "pher* = pher\n",
      "srbc* = pher\n",
      "tax-4* = daf-11\n"
     ]
    }
   ],
   "source": [
    "primes_d = sm.format.create_primes(rules_d)\n",
    "sm.format.pretty_print_prime_rules(primes_d)\n"
   ]
  },
  {
   "cell_type": "code",
   "execution_count": 4,
   "id": "aab31902",
   "metadata": {},
   "outputs": [],
   "source": [
    "#analyzing the network\n",
    "ar2 = sm.AttractorRepertoire.from_primes(primes_d, max_simulate_size=50)"
   ]
  },
  {
   "cell_type": "code",
   "execution_count": 5,
   "id": "5c2af388",
   "metadata": {},
   "outputs": [
    {
     "name": "stdout",
     "output_type": "stream",
     "text": [
      "There are 10 attractors.\n",
      "{'aap-1': 0, 'age-1': 0, 'akt': 0, 'cmk-1': 0, 'daf-1-4': 0, 'daf-11': 1, 'daf-12': 1, 'daf-16': 1, 'daf-2': 0, 'daf-28': 0, 'daf-3': 1, 'daf-5': 1, 'daf-7': 0, 'daf-8-14': 0, 'daf-9': 1, 'dauer': 1, 'dhs-16': 0, 'hsf-1': 1, 'ins-1': 1, 'ins-18': 1, 'ins-7': 0, 'ncr': 0, 'pdk-1': 0, 'pher': 0, 'srbc': 0, 'tax-4': 1}\n",
      "\n",
      "{'aap-1': 0, 'age-1': 0, 'akt': 0, 'cmk-1': 0, 'daf-1-4': 0, 'daf-11': 0, 'daf-12': 1, 'daf-16': 1, 'daf-2': 0, 'daf-28': 0, 'daf-3': 1, 'daf-5': 1, 'daf-7': 0, 'daf-8-14': 0, 'daf-9': 1, 'dauer': 1, 'dhs-16': 0, 'hsf-1': 1, 'ins-1': 1, 'ins-18': 1, 'ins-7': 0, 'ncr': 0, 'pdk-1': 0, 'pher': 1, 'srbc': 1, 'tax-4': 0}\n",
      "\n",
      "{'aap-1': 0, 'age-1': 0, 'akt': 0, 'cmk-1': 0, 'daf-1-4': 0, 'daf-11': 1, 'daf-12': 1, 'daf-16': 1, 'daf-2': 0, 'daf-28': 0, 'daf-3': 1, 'daf-5': 1, 'daf-7': 0, 'daf-8-14': 0, 'daf-9': 1, 'dauer': 1, 'dhs-16': 0, 'hsf-1': 1, 'ins-1': 1, 'ins-18': 1, 'ins-7': 0, 'ncr': 1, 'pdk-1': 0, 'pher': 0, 'srbc': 0, 'tax-4': 1}\n",
      "\n",
      "{'aap-1': 0, 'age-1': 0, 'akt': 0, 'cmk-1': 0, 'daf-1-4': 0, 'daf-11': 0, 'daf-12': 1, 'daf-16': 1, 'daf-2': 0, 'daf-28': 0, 'daf-3': 1, 'daf-5': 1, 'daf-7': 0, 'daf-8-14': 0, 'daf-9': 1, 'dauer': 1, 'dhs-16': 0, 'hsf-1': 1, 'ins-1': 1, 'ins-18': 1, 'ins-7': 0, 'ncr': 1, 'pdk-1': 0, 'pher': 1, 'srbc': 1, 'tax-4': 0}\n",
      "\n",
      "{'aap-1': 1, 'age-1': 1, 'akt': 1, 'cmk-1': 1, 'daf-1-4': 1, 'daf-11': 1, 'daf-12': 'X', 'daf-16': 'X', 'daf-2': 1, 'daf-28': 1, 'daf-3': 0, 'daf-5': 0, 'daf-7': 1, 'daf-8-14': 1, 'daf-9': 'X', 'dauer': 'X', 'dhs-16': 1, 'hsf-1': 0, 'ins-1': 0, 'ins-18': 'X', 'ins-7': 1, 'ncr': 0, 'pdk-1': 1, 'pher': 0, 'srbc': 0, 'tax-4': 1}\n",
      "\n",
      "{'aap-1': 0, 'age-1': 0, 'akt': 0, 'cmk-1': 1, 'daf-1-4': 0, 'daf-11': 1, 'daf-12': 1, 'daf-16': 1, 'daf-2': 0, 'daf-28': 1, 'daf-3': 1, 'daf-5': 1, 'daf-7': 0, 'daf-8-14': 0, 'daf-9': 1, 'dauer': 1, 'dhs-16': 0, 'hsf-1': 1, 'ins-1': 1, 'ins-18': 1, 'ins-7': 0, 'ncr': 0, 'pdk-1': 0, 'pher': 0, 'srbc': 0, 'tax-4': 1}\n",
      "\n",
      "{'aap-1': 0, 'age-1': 0, 'akt': 0, 'cmk-1': 1, 'daf-1-4': 0, 'daf-11': 0, 'daf-12': 1, 'daf-16': 1, 'daf-2': 0, 'daf-28': 1, 'daf-3': 1, 'daf-5': 1, 'daf-7': 0, 'daf-8-14': 0, 'daf-9': 1, 'dauer': 1, 'dhs-16': 0, 'hsf-1': 1, 'ins-1': 1, 'ins-18': 1, 'ins-7': 0, 'ncr': 0, 'pdk-1': 0, 'pher': 1, 'srbc': 1, 'tax-4': 0}\n",
      "\n",
      "{'aap-1': 1, 'age-1': 1, 'akt': 1, 'cmk-1': 1, 'daf-1-4': 1, 'daf-11': 1, 'daf-12': 0, 'daf-16': 0, 'daf-2': 1, 'daf-28': 1, 'daf-3': 0, 'daf-5': 0, 'daf-7': 1, 'daf-8-14': 1, 'daf-9': 1, 'dauer': 0, 'dhs-16': 1, 'hsf-1': 0, 'ins-1': 0, 'ins-18': 0, 'ins-7': 1, 'ncr': 1, 'pdk-1': 1, 'pher': 0, 'srbc': 0, 'tax-4': 1}\n",
      "\n",
      "{'aap-1': 0, 'age-1': 0, 'akt': 0, 'cmk-1': 1, 'daf-1-4': 0, 'daf-11': 1, 'daf-12': 1, 'daf-16': 1, 'daf-2': 0, 'daf-28': 1, 'daf-3': 1, 'daf-5': 1, 'daf-7': 0, 'daf-8-14': 0, 'daf-9': 1, 'dauer': 1, 'dhs-16': 0, 'hsf-1': 1, 'ins-1': 1, 'ins-18': 1, 'ins-7': 0, 'ncr': 1, 'pdk-1': 0, 'pher': 0, 'srbc': 0, 'tax-4': 1}\n",
      "\n",
      "{'aap-1': 0, 'age-1': 0, 'akt': 0, 'cmk-1': 1, 'daf-1-4': 0, 'daf-11': 0, 'daf-12': 1, 'daf-16': 1, 'daf-2': 0, 'daf-28': 1, 'daf-3': 1, 'daf-5': 1, 'daf-7': 0, 'daf-8-14': 0, 'daf-9': 1, 'dauer': 1, 'dhs-16': 0, 'hsf-1': 1, 'ins-1': 1, 'ins-18': 1, 'ins-7': 0, 'ncr': 1, 'pdk-1': 0, 'pher': 1, 'srbc': 1, 'tax-4': 0}\n",
      "\n"
     ]
    }
   ],
   "source": [
    "ar2.summary()"
   ]
  },
  {
   "cell_type": "code",
   "execution_count": 6,
   "id": "b0313193",
   "metadata": {},
   "outputs": [
    {
     "data": {
      "text/plain": [
       "[{'pher': 1, 'cmk-1': 1, 'ncr': 0},\n",
       " {'daf-2': 0,\n",
       "  'daf-16': 1,\n",
       "  'daf-7': 0,\n",
       "  'daf-1-4': 0,\n",
       "  'daf-12': 1,\n",
       "  'ins-18': 1,\n",
       "  'daf-8-14': 0,\n",
       "  'daf-3': 1,\n",
       "  'hsf-1': 1,\n",
       "  'daf-5': 1,\n",
       "  'ins-7': 0,\n",
       "  'ins-1': 1},\n",
       " {'daf-2': 1, 'ins-7': 1, 'hsf-1': 0, 'daf-7': 1},\n",
       " {'daf-3': 0,\n",
       "  'daf-2': 1,\n",
       "  'daf-8-14': 1,\n",
       "  'daf-5': 0,\n",
       "  'ins-1': 0,\n",
       "  'daf-1-4': 1,\n",
       "  'hsf-1': 0,\n",
       "  'daf-7': 1},\n",
       " {'cmk-1': 1, 'ncr': 1, 'pher': 0},\n",
       " {'akt': 1,\n",
       "  'ins-18': 0,\n",
       "  'age-1': 1,\n",
       "  'daf-12': 0,\n",
       "  'daf-16': 0,\n",
       "  'aap-1': 1,\n",
       "  'pdk-1': 1,\n",
       "  'daf-2': 1,\n",
       "  'hsf-1': 0,\n",
       "  'daf-7': 1},\n",
       " {'pdk-1': 0,\n",
       "  'daf-2': 0,\n",
       "  'daf-16': 1,\n",
       "  'daf-7': 0,\n",
       "  'daf-1-4': 0,\n",
       "  'akt': 0,\n",
       "  'ins-18': 1,\n",
       "  'daf-8-14': 0,\n",
       "  'daf-3': 1,\n",
       "  'hsf-1': 1,\n",
       "  'age-1': 0,\n",
       "  'daf-5': 1,\n",
       "  'aap-1': 0,\n",
       "  'ins-7': 0,\n",
       "  'ins-1': 1},\n",
       " {'cmk-1': 0, 'ncr': 0, 'pher': 0},\n",
       " {'pher': 1, 'cmk-1': 1, 'ncr': 1},\n",
       " {'cmk-1': 0, 'ncr': 1, 'pher': 0},\n",
       " {'pher': 1, 'cmk-1': 0, 'ncr': 0},\n",
       " {'cmk-1': 1, 'ncr': 0, 'pher': 0},\n",
       " {'pher': 1, 'cmk-1': 0, 'ncr': 1}]"
      ]
     },
     "execution_count": 6,
     "metadata": {},
     "output_type": "execute_result"
    }
   ],
   "source": [
    "#finding unique stable motifs\n",
    "ar2.succession_diagram.get_motifs()"
   ]
  },
  {
   "cell_type": "code",
   "execution_count": 8,
   "id": "c71c8d26",
   "metadata": {},
   "outputs": [
    {
     "name": "stdout",
     "output_type": "stream",
     "text": [
      "control sets are: [{'cmk-1': 0, 'ncr': 0, 'pher': 1}]\n",
      "____\n",
      "stable motifs are: [{'pher': 1, 'cmk-1': 1, 'ncr': 0}, {'daf-2': 0, 'daf-16': 1, 'daf-7': 0, 'daf-1-4': 0, 'daf-12': 1, 'ins-18': 1, 'daf-8-14': 0, 'daf-3': 1, 'hsf-1': 1, 'daf-5': 1, 'ins-7': 0, 'ins-1': 1}, {'daf-2': 1, 'ins-7': 1, 'hsf-1': 0, 'daf-7': 1}, {'daf-3': 0, 'daf-2': 1, 'daf-8-14': 1, 'daf-5': 0, 'ins-1': 0, 'daf-1-4': 1, 'hsf-1': 0, 'daf-7': 1}, {'cmk-1': 1, 'ncr': 1, 'pher': 0}, {'akt': 1, 'ins-18': 0, 'age-1': 1, 'daf-12': 0, 'daf-16': 0, 'aap-1': 1, 'pdk-1': 1, 'daf-2': 1, 'hsf-1': 0, 'daf-7': 1}, {'pdk-1': 0, 'daf-2': 0, 'daf-16': 1, 'daf-7': 0, 'daf-1-4': 0, 'akt': 0, 'ins-18': 1, 'daf-8-14': 0, 'daf-3': 1, 'hsf-1': 1, 'age-1': 0, 'daf-5': 1, 'aap-1': 0, 'ins-7': 0, 'ins-1': 1}, {'cmk-1': 0, 'ncr': 0, 'pher': 0}, {'pher': 1, 'cmk-1': 1, 'ncr': 1}, {'cmk-1': 0, 'ncr': 1, 'pher': 0}, {'pher': 1, 'cmk-1': 0, 'ncr': 0}, {'cmk-1': 1, 'ncr': 0, 'pher': 0}, {'pher': 1, 'cmk-1': 0, 'ncr': 1}]\n"
     ]
    }
   ],
   "source": [
    "no_dauer = {'aap-1': 1, 'age-1': 1, 'akt': 1, 'cmk-1': 1, 'daf-1-4': 1, 'daf-11': 1, 'daf-12': 0, 'daf-16': 0, 'daf-2': 1, 'daf-28': 1, 'daf-3': 0, 'daf-5': 0, 'daf-7': 1, 'daf-8-14': 1, 'daf-9': 1, 'dauer': 0, 'dhs-16': 1, 'hsf-1': 0, 'ins-1': 0, 'ins-18': 0, 'ins-7': 1, 'ncr': 1, 'pdk-1': 1, 'pher': 0, 'srbc': 0, 'tax-4': 1}\n",
    "dauer={'aap-1': 0, 'age-1': 0, 'akt': 0, 'cmk-1': 0, 'daf-1-4': 0, 'daf-11': 0, 'daf-12': 1, 'daf-16': 1, 'daf-2': 0, 'daf-28': 0, 'daf-3': 1, 'daf-5': 1, 'daf-7': 0, 'daf-8-14': 0, 'daf-9': 1, 'dauer': 1, 'dhs-16': 0, 'hsf-1': 1, 'ins-1': 1, 'ins-18': 1, 'ins-7': 0, 'ncr': 0, 'pdk-1': 0, 'pher': 1, 'srbc': 1, 'tax-4': 0}\n",
    "\n",
    "control_sets = ar2.succession_diagram.reprogram_to_trap_spaces(logically_fixed=dauer,target_method='history',driver_method='internal')\n",
    "\n",
    "print(\"control sets are:\", control_sets)\n",
    "print(\"____\")\n",
    "# get a list of stable motifs that appear in the succession diagram \n",
    "# (note that some of these are only be stable motifs in a system that has been reduced by substituting \"true\" stable motifs)\n",
    "motifs = ar2.succession_diagram.get_motifs()\n",
    "print(\"stable motifs are:\", motifs)\n"
   ]
  },
  {
   "cell_type": "code",
   "execution_count": 10,
   "id": "15f25b2d",
   "metadata": {},
   "outputs": [
    {
     "name": "stdout",
     "output_type": "stream",
     "text": [
      "Displaying which control nodes are used to drive individual stable motifs in each control set for attaining {target_state}:\n",
      "\n",
      "control_set={'cmk-1': 0, 'ncr': 0, 'pher': 1},motif={'pher': 1, 'cmk-1': 0, 'ncr': 0},motif_drivers={('pher', 1), ('cmk-1', 0), ('ncr', 0)}\n",
      "\n",
      "Done.\n"
     ]
    }
   ],
   "source": [
    "# Determine which parts of the control set drive which stable motifs by comparing the overlap\n",
    "# Note that this can also be done \"by eye\" by comparing the control set with the succession diagram node or edge labels for small systems\n",
    "print('Displaying which control nodes are used to drive individual stable motifs in each control set for attaining {target_state}:\\n')\n",
    "for control_set in control_sets:\n",
    "    ldoi,_=sm.drivers.logical_domain_of_influence(control_set,primes_d) # determine which nodes are driven by this particular control set\n",
    "    for motif in motifs:\n",
    "        motif_drivers = motif.items() & control_set.items() # which control set nodes might drive the stable motif    \n",
    "        is_driver=sm.drivers.fixed_implies_implicant(ldoi,motif) # verify that the control set really does drive the stable motif\n",
    "    \n",
    "        # display\n",
    "        if len(motif_drivers) > 0 and is_driver:\n",
    "            print(f'{control_set=},{motif=},{motif_drivers=}')\n",
    "    print()\n",
    "    \n",
    "print(\"Done.\")"
   ]
  },
  {
   "cell_type": "code",
   "execution_count": null,
   "id": "f661d3bc",
   "metadata": {},
   "outputs": [],
   "source": []
  }
 ],
 "metadata": {
  "kernelspec": {
   "display_name": "Python 3",
   "language": "python",
   "name": "python3"
  },
  "language_info": {
   "codemirror_mode": {
    "name": "ipython",
    "version": 3
   },
   "file_extension": ".py",
   "mimetype": "text/x-python",
   "name": "python",
   "nbconvert_exporter": "python",
   "pygments_lexer": "ipython3",
   "version": "3.8.5"
  }
 },
 "nbformat": 4,
 "nbformat_minor": 5
}
