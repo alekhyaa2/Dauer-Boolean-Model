{
 "cells": [
  {
   "cell_type": "code",
   "execution_count": 40,
   "id": "7ed8c637",
   "metadata": {},
   "outputs": [],
   "source": [
    "import pylab\n",
    "import boolean2\n",
    "from boolean2 import state, network, util, Model"
   ]
  },
  {
   "cell_type": "code",
   "execution_count": 41,
   "id": "296d47aa",
   "metadata": {},
   "outputs": [],
   "source": [
    "text = \"\"\"\n",
    "#initial conditions\n",
    "cmk-1 = ncr = True \n",
    "pher = False \n",
    "\n",
    "#rules\n",
    "dhs-16 *= daf-2 \n",
    "daf-9 *= not dhs-16 or ncr or daf-12 \n",
    "daf-12 *= not daf-9 or not daf-7 \n",
    "daf-16 *= not akt or daf-12 \n",
    "pdk-1 *= age-1\n",
    "age-1 *= aap-1 \n",
    "aap-1 *= daf-2 \n",
    "akt *= pdk-1  \n",
    "daf-2 *= (ins-7 and daf-28) or (not ins-1 or not ins-18) \n",
    "dauer *= daf-16 and daf-12  \n",
    "ins-7 *= daf-7 or not daf-16  \n",
    "daf-7 *= (tax-4 and cmk-1) and not hsf-1 \n",
    "daf-11 *= not srbc  \n",
    "daf-28 *= cmk-1  \n",
    "daf-5 *= daf-3  \n",
    "daf-3 *= not daf-8-14 \n",
    "daf-8-14 *= daf-1-4 \n",
    "daf-1-4 *= daf-7 \n",
    "ins-1 *= daf-5 \n",
    "hsf-1 *= not daf-2 \n",
    "srbc *= pher \n",
    "tax-4 *= daf-11 \n",
    "ins-18 *= daf-16 \n",
    "\"\"\""
   ]
  },
  {
   "cell_type": "code",
   "execution_count": 24,
   "id": "a21df699",
   "metadata": {},
   "outputs": [],
   "source": [
    "coll = util.Collector()\n",
    "for i in range(1000):\n",
    "    sim = Model(mode='async', text=text )\n",
    "    sim.initialize(missing= util.randbool)\n",
    "    sim.iterate(steps=100)\n",
    "    coll.collect( states=sim.states, nodes=sim.nodes )\n",
    "\n",
    "avgs = coll.get_averages( normalize=True )"
   ]
  },
  {
   "cell_type": "code",
   "execution_count": 25,
   "id": "21f8dc96",
   "metadata": {},
   "outputs": [],
   "source": [
    "sim.save_states( 'states_fav.txt' )"
   ]
  },
  {
   "cell_type": "code",
   "execution_count": 20,
   "id": "e6c79df0",
   "metadata": {},
   "outputs": [],
   "source": [
    "text_uf = \"\"\"\n",
    "#initial conditions\n",
    "cmk-1 = ncr = False \n",
    "pher = True\n",
    "\n",
    "#rules\n",
    "dhs-16 *= daf-2 \n",
    "daf-9 *= not dhs-16 or ncr or daf-12 \n",
    "daf-12 *= not daf-9 or not daf-7 \n",
    "daf-16 *= not akt or daf-12 \n",
    "pdk-1 *= age-1\n",
    "age-1 *= aap-1 \n",
    "aap-1 *= daf-2 \n",
    "akt *= pdk-1  \n",
    "daf-2 *= (ins-7 and daf-28) or (not ins-1 or not ins-18) \n",
    "dauer *= daf-16 and daf-12  \n",
    "ins-7 *= daf-7 or not daf-16  \n",
    "daf-7 *= (tax-4 and cmk-1) and not hsf-1 \n",
    "daf-11 *= not srbc  \n",
    "daf-28 *= cmk-1  \n",
    "daf-5 *= daf-3  \n",
    "daf-3 *= not daf-8-14 \n",
    "daf-8-14 *= daf-1-4 \n",
    "daf-1-4 *= daf-7 \n",
    "ins-1 *= daf-5 \n",
    "hsf-1 *= not daf-2 \n",
    "srbc *= pher \n",
    "tax-4 *= daf-11 \n",
    "ins-18 *= daf-16 \n",
    "\"\"\""
   ]
  },
  {
   "cell_type": "code",
   "execution_count": 21,
   "id": "baa9fc6a",
   "metadata": {},
   "outputs": [],
   "source": [
    "coll = util.Collector()\n",
    "for i in range(1000):\n",
    "    sim_uf = Model(mode='async', text=text_uf )\n",
    "    sim_uf.initialize(missing= util.randbool)\n",
    "    sim_uf.iterate(steps=100)\n",
    "    coll.collect( states=sim_uf.states, nodes=sim_uf.nodes )\n",
    "\n",
    "avgs = coll.get_averages( normalize=True )"
   ]
  },
  {
   "cell_type": "code",
   "execution_count": 22,
   "id": "84734015",
   "metadata": {},
   "outputs": [],
   "source": [
    "sim_uf.save_states( 'states_un_fav.txt' )"
   ]
  },
  {
   "cell_type": "code",
   "execution_count": 36,
   "id": "f427f9ba",
   "metadata": {},
   "outputs": [],
   "source": [
    "on = []\n",
    "off = [\"daf-12\"]\n",
    "\n",
    "text_mut = boolean2.modify_states(text=text_uf, turnon=on, turnoff=off)\n",
    "\n",
    "coll= util.Collector()\n",
    "\n",
    "for i in range(1000):\n",
    "    mut = Model(mode='async', text= text_mut)\n",
    "    mut.initialize(missing=util.randbool)\n",
    "    mut.iterate(steps=100)\n",
    "    coll.collect( states=mut.states, nodes=mut.nodes)\n",
    "    \n",
    "avgs_k = coll.get_averages( normalize=True )"
   ]
  },
  {
   "cell_type": "code",
   "execution_count": 39,
   "id": "e2e98379",
   "metadata": {},
   "outputs": [
    {
     "name": "stdout",
     "output_type": "stream",
     "text": [
      "daf-12 [0.0, 0.0, 0.0, 0.0, 0.0, 0.0, 0.0, 0.0, 0.0, 0.0, 0.0, 0.0, 0.0, 0.0, 0.0, 0.0, 0.0, 0.0, 0.0, 0.0, 0.0, 0.0, 0.0, 0.0, 0.0, 0.0, 0.0, 0.0, 0.0, 0.0, 0.0, 0.0, 0.0, 0.0, 0.0, 0.0, 0.0, 0.0, 0.0, 0.0, 0.0, 0.0, 0.0, 0.0, 0.0, 0.0, 0.0, 0.0, 0.0, 0.0, 0.0, 0.0, 0.0, 0.0, 0.0, 0.0, 0.0, 0.0, 0.0, 0.0, 0.0, 0.0, 0.0, 0.0, 0.0, 0.0, 0.0, 0.0, 0.0, 0.0, 0.0, 0.0, 0.0, 0.0, 0.0, 0.0, 0.0, 0.0, 0.0, 0.0, 0.0, 0.0, 0.0, 0.0, 0.0, 0.0, 0.0, 0.0, 0.0, 0.0, 0.0, 0.0, 0.0, 0.0, 0.0, 0.0, 0.0, 0.0, 0.0, 0.0, 0.0]\n",
      "dauer [0.506, 0.0, 0.0, 0.0, 0.0, 0.0, 0.0, 0.0, 0.0, 0.0, 0.0, 0.0, 0.0, 0.0, 0.0, 0.0, 0.0, 0.0, 0.0, 0.0, 0.0, 0.0, 0.0, 0.0, 0.0, 0.0, 0.0, 0.0, 0.0, 0.0, 0.0, 0.0, 0.0, 0.0, 0.0, 0.0, 0.0, 0.0, 0.0, 0.0, 0.0, 0.0, 0.0, 0.0, 0.0, 0.0, 0.0, 0.0, 0.0, 0.0, 0.0, 0.0, 0.0, 0.0, 0.0, 0.0, 0.0, 0.0, 0.0, 0.0, 0.0, 0.0, 0.0, 0.0, 0.0, 0.0, 0.0, 0.0, 0.0, 0.0, 0.0, 0.0, 0.0, 0.0, 0.0, 0.0, 0.0, 0.0, 0.0, 0.0, 0.0, 0.0, 0.0, 0.0, 0.0, 0.0, 0.0, 0.0, 0.0, 0.0, 0.0, 0.0, 0.0, 0.0, 0.0, 0.0, 0.0, 0.0, 0.0, 0.0, 0.0]\n",
      "food [0.0, 0.0, 0.0, 0.0, 0.0, 0.0, 0.0, 0.0, 0.0, 0.0, 0.0, 0.0, 0.0, 0.0, 0.0, 0.0, 0.0, 0.0, 0.0, 0.0, 0.0, 0.0, 0.0, 0.0, 0.0, 0.0, 0.0, 0.0, 0.0, 0.0, 0.0, 0.0, 0.0, 0.0, 0.0, 0.0, 0.0, 0.0, 0.0, 0.0, 0.0, 0.0, 0.0, 0.0, 0.0, 0.0, 0.0, 0.0, 0.0, 0.0, 0.0, 0.0, 0.0, 0.0, 0.0, 0.0, 0.0, 0.0, 0.0, 0.0, 0.0, 0.0, 0.0, 0.0, 0.0, 0.0, 0.0, 0.0, 0.0, 0.0, 0.0, 0.0, 0.0, 0.0, 0.0, 0.0, 0.0, 0.0, 0.0, 0.0, 0.0, 0.0, 0.0, 0.0, 0.0, 0.0, 0.0, 0.0, 0.0, 0.0, 0.0, 0.0, 0.0, 0.0, 0.0, 0.0, 0.0, 0.0, 0.0, 0.0, 0.0]\n"
     ]
    }
   ],
   "source": [
    "print(\"daf-12\",avgs_k[\"daf-12\"])\n",
    "print(\"dauer\",avgs_k[\"dauer\"])\n",
    "print(\"food\",avgs_k[\"cmk-1\"])"
   ]
  },
  {
   "cell_type": "code",
   "execution_count": null,
   "id": "2574a6d5",
   "metadata": {},
   "outputs": [],
   "source": []
  },
  {
   "cell_type": "code",
   "execution_count": 38,
   "id": "93466abc",
   "metadata": {},
   "outputs": [],
   "source": [
    "mut.save_states('states_daf12.txt')"
   ]
  },
  {
   "cell_type": "code",
   "execution_count": 27,
   "id": "698f4a34",
   "metadata": {},
   "outputs": [],
   "source": [
    "on = []\n",
    "off = [\"daf-16\"]\n",
    "\n",
    "text_mut_1 = boolean2.modify_states(text=text_uf, turnon=on, turnoff=off)\n",
    "\n",
    "coll= util.Collector()\n",
    "\n",
    "for i in range(1000):\n",
    "    mut_1 = Model(mode='async', text= text_mut_1)\n",
    "    mut_1.initialize(missing=util.randbool)\n",
    "    mut_1.iterate(steps=100)\n",
    "    coll.collect( states=mut_1.states, nodes=mut_1.nodes)\n",
    "    \n",
    "avgs_k1 = coll.get_averages( normalize=True )"
   ]
  },
  {
   "cell_type": "code",
   "execution_count": 28,
   "id": "6d639dc4",
   "metadata": {},
   "outputs": [],
   "source": [
    "mut_1.save_states('states_daf16.txt')"
   ]
  },
  {
   "cell_type": "code",
   "execution_count": 29,
   "id": "548ca366",
   "metadata": {},
   "outputs": [],
   "source": [
    "on = []\n",
    "off = [\"daf-11\"]\n",
    "\n",
    "text_mut_2 = boolean2.modify_states(text=text, turnon=on, turnoff=off)\n",
    "\n",
    "coll= util.Collector()\n",
    "\n",
    "for i in range(1000):\n",
    "    mut_2 = Model(mode='async', text= text_mut_2)\n",
    "    mut_2.initialize(missing=util.randbool)\n",
    "    mut_2.iterate(steps=100)\n",
    "    coll.collect( states=mut_2.states, nodes=mut_2.nodes)\n",
    "    \n",
    "avgs_k2 = coll.get_averages( normalize=True )"
   ]
  },
  {
   "cell_type": "code",
   "execution_count": 13,
   "id": "c92cdff7",
   "metadata": {},
   "outputs": [],
   "source": [
    "mut_2.save_states('states_daf11.txt')"
   ]
  },
  {
   "cell_type": "code",
   "execution_count": 30,
   "id": "c19acc93",
   "metadata": {},
   "outputs": [],
   "source": [
    "on = []\n",
    "off = [\"daf-9\"]\n",
    "\n",
    "text_mut_3 = boolean2.modify_states(text=text, turnon=on, turnoff=off)\n",
    "\n",
    "coll= util.Collector()\n",
    "\n",
    "for i in range(1000):\n",
    "    mut_3 = Model(mode='async', text= text_mut_3)\n",
    "    mut_3.initialize(missing=util.randbool)\n",
    "    mut_3.iterate(steps=100)\n",
    "    coll.collect( states=mut_3.states, nodes=mut_3.nodes)\n",
    "    \n",
    "avgs_k3 = coll.get_averages( normalize=True )"
   ]
  },
  {
   "cell_type": "code",
   "execution_count": 31,
   "id": "9cd41ec5",
   "metadata": {},
   "outputs": [],
   "source": [
    "mut_3.save_states('states_daf9.txt')"
   ]
  },
  {
   "cell_type": "code",
   "execution_count": 32,
   "id": "e9590c12",
   "metadata": {},
   "outputs": [],
   "source": [
    "on = []\n",
    "off = [\"daf-7\"]\n",
    "\n",
    "text_mut_4 = boolean2.modify_states(text=text, turnon=on, turnoff=off)\n",
    "\n",
    "coll= util.Collector()\n",
    "\n",
    "for i in range(1000):\n",
    "    mut_4 = Model(mode='async', text= text_mut_4)\n",
    "    mut_4.initialize(missing=util.randbool)\n",
    "    mut_4.iterate(steps=100)\n",
    "    coll.collect( states=mut_4.states, nodes=mut_4.nodes)\n",
    "    \n",
    "avgs_k4 = coll.get_averages( normalize=True )"
   ]
  },
  {
   "cell_type": "code",
   "execution_count": 33,
   "id": "cfe5ce19",
   "metadata": {},
   "outputs": [],
   "source": [
    "mut_4.save_states('states_daf7.txt')"
   ]
  },
  {
   "cell_type": "code",
   "execution_count": 34,
   "id": "f0aac64a",
   "metadata": {},
   "outputs": [],
   "source": [
    "on = []\n",
    "off = [\"daf-2\"]\n",
    "\n",
    "text_mut_5 = boolean2.modify_states(text=text, turnon=on, turnoff=off)\n",
    "\n",
    "coll= util.Collector()\n",
    "\n",
    "for i in range(1000):\n",
    "    mut_5 = Model(mode='async', text= text_mut_5)\n",
    "    mut_5.initialize(missing=util.randbool)\n",
    "    mut_5.iterate(steps=100)\n",
    "    coll.collect( states=mut_5.states, nodes=mut_5.nodes)\n",
    "    \n",
    "avgs_k5 = coll.get_averages( normalize=True )"
   ]
  },
  {
   "cell_type": "code",
   "execution_count": 35,
   "id": "9b6b681c",
   "metadata": {},
   "outputs": [],
   "source": [
    "mut_5.save_states('states_daf2.txt')"
   ]
  },
  {
   "cell_type": "code",
   "execution_count": 44,
   "id": "0ab6fc07",
   "metadata": {},
   "outputs": [],
   "source": [
    "on = [\"hsf-1\"]\n",
    "off = []\n",
    "\n",
    "text_mut_6 = boolean2.modify_states(text=text, turnon=on, turnoff=off)\n",
    "\n",
    "coll= util.Collector()\n",
    "\n",
    "for i in range(1000):\n",
    "    mut_6 = Model(mode='async', text= text_mut_6)\n",
    "    mut_6.initialize(missing=util.randbool)\n",
    "    mut_6.iterate(steps=100)\n",
    "    coll.collect( states=mut_6.states, nodes=mut_6.nodes)\n",
    "    \n",
    "avgs_k6 = coll.get_averages( normalize=True )"
   ]
  },
  {
   "cell_type": "code",
   "execution_count": 45,
   "id": "865418ce",
   "metadata": {},
   "outputs": [],
   "source": [
    "mut_6.save_states('states_hsf1.txt')"
   ]
  },
  {
   "cell_type": "code",
   "execution_count": 46,
   "id": "240736d8",
   "metadata": {},
   "outputs": [
    {
     "data": {
      "text/plain": [
       "'cmk-1 = ncr = True\\npher = False\\nhsf-1=True\\ndhs-16 * = daf-2\\ndaf-9 * = not dhs-16 or ncr or daf-12\\ndaf-12 * = not daf-9 or not daf-7\\ndaf-16 * = not akt or daf-12\\npdk-1 * = age-1\\nage-1 * = aap-1\\naap-1 * = daf-2\\nakt * = pdk-1\\ndaf-2 * = ( ins-7 and daf-28 ) or ( not ins-1 or not ins-18 )\\ndauer * = daf-16 and daf-12\\nins-7 * = daf-7 or not daf-16\\ndaf-7 * = ( tax-4 and cmk-1 ) and not hsf-1\\ndaf-11 * = not srbc\\ndaf-28 * = cmk-1\\ndaf-5 * = daf-3\\ndaf-3 * = not daf-8-14\\ndaf-8-14 * = daf-1-4\\ndaf-1-4 * = daf-7\\nins-1 * = daf-5\\n#hsf-1 * = not daf-2\\nsrbc * = pher\\ntax-4 * = daf-11\\nins-18 * = daf-16'"
      ]
     },
     "execution_count": 46,
     "metadata": {},
     "output_type": "execute_result"
    }
   ],
   "source": [
    "text_mut_6"
   ]
  },
  {
   "cell_type": "code",
   "execution_count": 47,
   "id": "f454d9c8",
   "metadata": {},
   "outputs": [],
   "source": [
    "on = [\"daf-2\"]\n",
    "off = []\n",
    "\n",
    "text_try = boolean2.modify_states(text=text, turnon=on, turnoff=off)"
   ]
  },
  {
   "cell_type": "code",
   "execution_count": 48,
   "id": "d8b0ad8a",
   "metadata": {},
   "outputs": [
    {
     "data": {
      "text/plain": [
       "'cmk-1 = ncr = True\\npher = False\\ndaf-2=True\\ndhs-16 * = daf-2\\ndaf-9 * = not dhs-16 or ncr or daf-12\\ndaf-12 * = not daf-9 or not daf-7\\ndaf-16 * = not akt or daf-12\\npdk-1 * = age-1\\nage-1 * = aap-1\\naap-1 * = daf-2\\nakt * = pdk-1\\n#daf-2 * = ( ins-7 and daf-28 ) or ( not ins-1 or not ins-18 )\\ndauer * = daf-16 and daf-12\\nins-7 * = daf-7 or not daf-16\\ndaf-7 * = ( tax-4 and cmk-1 ) and not hsf-1\\ndaf-11 * = not srbc\\ndaf-28 * = cmk-1\\ndaf-5 * = daf-3\\ndaf-3 * = not daf-8-14\\ndaf-8-14 * = daf-1-4\\ndaf-1-4 * = daf-7\\nins-1 * = daf-5\\nhsf-1 * = not daf-2\\nsrbc * = pher\\ntax-4 * = daf-11\\nins-18 * = daf-16'"
      ]
     },
     "execution_count": 48,
     "metadata": {},
     "output_type": "execute_result"
    }
   ],
   "source": [
    "text_try"
   ]
  },
  {
   "cell_type": "code",
   "execution_count": null,
   "id": "ffcadd58",
   "metadata": {},
   "outputs": [],
   "source": [
    "text = \"\"\"\n",
    "#initial conditions\n",
    "cmk-1 = ncr = True \n",
    "pher = False \n",
    "\n",
    "#rules\n",
    "dhs-16 *= daf-2 \n",
    "daf-9 *= not dhs-16 or ncr or daf-12 \n",
    "daf-12 *= not daf-9 or not daf-7 \n",
    "daf-16 *= not akt or daf-12 \n",
    "pdk-1 *= age-1\n",
    "age-1 *= aap-1 \n",
    "aap-1 *= daf-2 \n",
    "akt *= pdk-1  \n",
    "daf-2 *= (ins-7 and daf-28) or (not ins-1 or not ins-18) \n",
    "dauer *= daf-16 and daf-12  \n",
    "ins-7 *= daf-7 or not daf-16  \n",
    "daf-7 *= (tax-4 and cmk-1) and not hsf-1 \n",
    "daf-11 *= not srbc  \n",
    "daf-28 *= cmk-1  \n",
    "daf-5 *= daf-3  \n",
    "daf-3 *= not daf-8-14 \n",
    "daf-8-14 *= daf-1-4 \n",
    "daf-1-4 *= daf-7 \n",
    "ins-1 *= daf-5 \n",
    "#hsf-1 *= not daf-2 \n",
    "srbc *= pher \n",
    "tax-4 *= daf-11 \n",
    "ins-18 *= daf-16 \n",
    "\"\"\""
   ]
  }
 ],
 "metadata": {
  "kernelspec": {
   "display_name": "Python 3",
   "language": "python",
   "name": "python3"
  },
  "language_info": {
   "codemirror_mode": {
    "name": "ipython",
    "version": 3
   },
   "file_extension": ".py",
   "mimetype": "text/x-python",
   "name": "python",
   "nbconvert_exporter": "python",
   "pygments_lexer": "ipython3",
   "version": "3.8.5"
  }
 },
 "nbformat": 4,
 "nbformat_minor": 5
}
