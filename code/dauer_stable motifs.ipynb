{
 "cells": [
  {
   "cell_type": "code",
   "execution_count": 1,
   "id": "ed1a270d",
   "metadata": {},
   "outputs": [],
   "source": [
    "import pystablemotifs as sm\n",
    "import pyboolnet\n",
    "import pystablemotifs.export as ex\n",
    "import networkx as nx"
   ]
  },
  {
   "cell_type": "code",
   "execution_count": 2,
   "id": "dfd7b7b0",
   "metadata": {},
   "outputs": [],
   "source": [
    "rules='''\n",
    "cmk-1 *= 1\n",
    "ncr *= 1\n",
    "pher *= 0\n",
    "\n",
    "dhs-16 *= daf-2\n",
    "daf-9 *= not dhs-16 or ncr or daf-12\n",
    "daf-12 *= not daf-9 or not daf-7\n",
    "daf-16 *= not akt or daf-12\n",
    "pdk-1 *= age-1\n",
    "age-1 *= aap-1\n",
    "aap-1 *= daf-2\n",
    "akt *= pdk-1 \n",
    "daf-2 *= (ins-7 and daf-28) or (not ins-1 or not ins-18)\n",
    "dauer *= daf-16 and daf-12 \n",
    "ins-7 *= daf-7 or not daf-16 \n",
    "daf-7 *= (tax-4 and cmk-1) and not hsf-1\n",
    "daf-11 *= not srbc \n",
    "daf-28 *= cmk-1 \n",
    "daf-5 *= daf-3 \n",
    "daf-3 *= not daf-8-14\n",
    "daf-8-14 *= daf-1-4\n",
    "daf-1-4 *= daf-7\n",
    "ins-1 *= daf-5\n",
    "hsf-1 *= not daf-2\n",
    "srbc *= pher\n",
    "tax-4 *= daf-11\n",
    "ins-18 *= daf-16\n",
    "'''"
   ]
  },
  {
   "cell_type": "code",
   "execution_count": 3,
   "id": "28c251cf",
   "metadata": {},
   "outputs": [
    {
     "name": "stdout",
     "output_type": "stream",
     "text": [
      "aap-1* = daf-2\n",
      "age-1* = aap-1\n",
      "akt* = pdk-1\n",
      "cmk-1* = 1\n",
      "daf-1-4* = daf-7\n",
      "daf-11* = !srbc\n",
      "daf-12* = !daf-9 | !daf-7\n",
      "daf-16* = daf-12 | !akt\n",
      "daf-2* = daf-28 & ins-7 | !ins-18 | !ins-1\n",
      "daf-28* = cmk-1\n",
      "daf-3* = !daf-8-14\n",
      "daf-5* = daf-3\n",
      "daf-7* = cmk-1 & !hsf-1 & tax-4\n",
      "daf-8-14* = daf-1-4\n",
      "daf-9* = ncr | !dhs-16 | daf-12\n",
      "dauer* = daf-12 & daf-16\n",
      "dhs-16* = daf-2\n",
      "hsf-1* = !daf-2\n",
      "ins-1* = daf-5\n",
      "ins-18* = daf-16\n",
      "ins-7* = daf-7 | !daf-16\n",
      "ncr* = 1\n",
      "pdk-1* = age-1\n",
      "pher* = 0\n",
      "srbc* = pher\n",
      "tax-4* = daf-11\n"
     ]
    }
   ],
   "source": [
    "primes = sm.format.create_primes(rules)\n",
    "sm.format.pretty_print_prime_rules(primes)\n"
   ]
  },
  {
   "cell_type": "code",
   "execution_count": 4,
   "id": "02189c75",
   "metadata": {},
   "outputs": [],
   "source": [
    "ar = sm.AttractorRepertoire.from_primes(primes, max_simulate_size=50)"
   ]
  },
  {
   "cell_type": "code",
   "execution_count": 5,
   "id": "90ead6e9",
   "metadata": {},
   "outputs": [
    {
     "name": "stdout",
     "output_type": "stream",
     "text": [
      "There are 2 attractors.\n",
      "{'aap-1': 1, 'age-1': 1, 'akt': 1, 'cmk-1': 1, 'daf-1-4': 1, 'daf-11': 1, 'daf-12': 0, 'daf-16': 0, 'daf-2': 1, 'daf-28': 1, 'daf-3': 0, 'daf-5': 0, 'daf-7': 1, 'daf-8-14': 1, 'daf-9': 1, 'dauer': 0, 'dhs-16': 1, 'hsf-1': 0, 'ins-1': 0, 'ins-18': 0, 'ins-7': 1, 'ncr': 1, 'pdk-1': 1, 'pher': 0, 'srbc': 0, 'tax-4': 1}\n",
      "\n",
      "{'aap-1': 0, 'age-1': 0, 'akt': 0, 'cmk-1': 1, 'daf-1-4': 0, 'daf-11': 1, 'daf-12': 1, 'daf-16': 1, 'daf-2': 0, 'daf-28': 1, 'daf-3': 1, 'daf-5': 1, 'daf-7': 0, 'daf-8-14': 0, 'daf-9': 1, 'dauer': 1, 'dhs-16': 0, 'hsf-1': 1, 'ins-1': 1, 'ins-18': 1, 'ins-7': 0, 'ncr': 1, 'pdk-1': 0, 'pher': 0, 'srbc': 0, 'tax-4': 1}\n",
      "\n"
     ]
    }
   ],
   "source": [
    "ar.summary()"
   ]
  },
  {
   "cell_type": "code",
   "execution_count": 6,
   "id": "4699418b",
   "metadata": {},
   "outputs": [
    {
     "data": {
      "text/plain": [
       "[{'ins-7': 1, 'daf-7': 1, 'hsf-1': 0, 'daf-2': 1},\n",
       " {'daf-5': 0,\n",
       "  'daf-1-4': 1,\n",
       "  'daf-3': 0,\n",
       "  'hsf-1': 0,\n",
       "  'ins-1': 0,\n",
       "  'daf-2': 1,\n",
       "  'daf-8-14': 1,\n",
       "  'daf-7': 1},\n",
       " {'aap-1': 1,\n",
       "  'hsf-1': 0,\n",
       "  'ins-18': 0,\n",
       "  'daf-16': 0,\n",
       "  'daf-12': 0,\n",
       "  'pdk-1': 1,\n",
       "  'daf-2': 1,\n",
       "  'age-1': 1,\n",
       "  'daf-7': 1,\n",
       "  'akt': 1},\n",
       " {'hsf-1': 1,\n",
       "  'ins-1': 1,\n",
       "  'daf-5': 1,\n",
       "  'daf-8-14': 0,\n",
       "  'daf-7': 0,\n",
       "  'daf-2': 0,\n",
       "  'daf-3': 1,\n",
       "  'daf-12': 1,\n",
       "  'ins-18': 1,\n",
       "  'daf-16': 1,\n",
       "  'daf-1-4': 0,\n",
       "  'ins-7': 0},\n",
       " {'hsf-1': 1,\n",
       "  'ins-1': 1,\n",
       "  'daf-5': 1,\n",
       "  'daf-8-14': 0,\n",
       "  'akt': 0,\n",
       "  'daf-2': 0,\n",
       "  'daf-7': 0,\n",
       "  'daf-3': 1,\n",
       "  'ins-18': 1,\n",
       "  'daf-16': 1,\n",
       "  'daf-1-4': 0,\n",
       "  'aap-1': 0,\n",
       "  'ins-7': 0,\n",
       "  'pdk-1': 0,\n",
       "  'age-1': 0},\n",
       " {'cmk-1': 1},\n",
       " {'ncr': 1},\n",
       " {'pher': 0}]"
      ]
     },
     "execution_count": 6,
     "metadata": {},
     "output_type": "execute_result"
    }
   ],
   "source": [
    "#to extract unique stable motifs\n",
    "ar.succession_diagram.get_motifs()"
   ]
  },
  {
   "cell_type": "code",
   "execution_count": 8,
   "id": "61844324",
   "metadata": {},
   "outputs": [
    {
     "data": {
      "text/plain": [
       "[{'pher': 0, 'ins-7': 1},\n",
       " {'pher': 0, 'hsf-1': 0},\n",
       " {'pher': 0, 'daf-7': 1},\n",
       " {'pher': 0, 'daf-2': 1},\n",
       " {'pher': 0, 'daf-3': 0},\n",
       " {'pher': 0, 'ins-1': 0},\n",
       " {'pher': 0, 'daf-1-4': 1},\n",
       " {'pher': 0, 'daf-8-14': 1},\n",
       " {'pher': 0, 'daf-5': 0},\n",
       " {'pher': 0, 'ins-18': 0},\n",
       " {'pher': 0, 'daf-16': 0},\n",
       " {'ncr': 1, 'ins-7': 1},\n",
       " {'ncr': 1, 'hsf-1': 0},\n",
       " {'ncr': 1, 'daf-7': 1},\n",
       " {'ncr': 1, 'daf-2': 1},\n",
       " {'ncr': 1, 'daf-3': 0},\n",
       " {'ncr': 1, 'ins-1': 0},\n",
       " {'ncr': 1, 'daf-1-4': 1},\n",
       " {'ncr': 1, 'daf-8-14': 1},\n",
       " {'ncr': 1, 'daf-5': 0},\n",
       " {'ncr': 1, 'ins-18': 0},\n",
       " {'ncr': 1, 'daf-16': 0},\n",
       " {'cmk-1': 1, 'ins-7': 1},\n",
       " {'cmk-1': 1, 'hsf-1': 0},\n",
       " {'cmk-1': 1, 'daf-7': 1},\n",
       " {'cmk-1': 1, 'daf-2': 1},\n",
       " {'cmk-1': 1, 'daf-3': 0},\n",
       " {'cmk-1': 1, 'ins-1': 0},\n",
       " {'cmk-1': 1, 'daf-1-4': 1},\n",
       " {'cmk-1': 1, 'daf-8-14': 1},\n",
       " {'cmk-1': 1, 'daf-5': 0},\n",
       " {'cmk-1': 1, 'ins-18': 0},\n",
       " {'cmk-1': 1, 'daf-16': 0},\n",
       " {'pher': 0, 'aap-1': 1, 'daf-12': 0},\n",
       " {'pher': 0, 'pdk-1': 1, 'daf-12': 0},\n",
       " {'pher': 0, 'daf-12': 0, 'age-1': 1},\n",
       " {'pher': 0, 'daf-12': 0, 'akt': 1},\n",
       " {'ncr': 1, 'aap-1': 1, 'daf-12': 0},\n",
       " {'ncr': 1, 'pdk-1': 1, 'daf-12': 0},\n",
       " {'ncr': 1, 'daf-12': 0, 'age-1': 1},\n",
       " {'ncr': 1, 'daf-12': 0, 'akt': 1},\n",
       " {'cmk-1': 1, 'aap-1': 1, 'daf-12': 0},\n",
       " {'cmk-1': 1, 'pdk-1': 1, 'daf-12': 0},\n",
       " {'cmk-1': 1, 'daf-12': 0, 'age-1': 1},\n",
       " {'cmk-1': 1, 'daf-12': 0, 'akt': 1}]"
      ]
     },
     "execution_count": 8,
     "metadata": {},
     "output_type": "execute_result"
    }
   ],
   "source": [
    "#controlling attractors\n",
    "target_state={'ins-7': 1, 'daf-7': 1, 'hsf-1': 0, 'daf-2': 1}\n",
    "ar.succession_diagram.reprogram_to_trap_spaces(logically_fixed=target_state,\n",
    "                                               target_method='history',\n",
    "                                               driver_method='internal')"
   ]
  },
  {
   "cell_type": "code",
   "execution_count": 11,
   "id": "33e2adb6",
   "metadata": {},
   "outputs": [
    {
     "name": "stdout",
     "output_type": "stream",
     "text": [
      "Time running method: 0.443038099999967\n",
      "Sets found:\n",
      "{'daf-16': 0}\n",
      "{'daf-8-14': 1}\n",
      "{'hsf-1': 0}\n",
      "{'daf-1-4': 1}\n",
      "{'daf-3': 0}\n",
      "{'daf-2': 1}\n",
      "{'daf-7': 1}\n",
      "{'ins-18': 0}\n",
      "{'daf-5': 0}\n",
      "{'ins-7': 1}\n",
      "{'ins-1': 0}\n",
      "{'daf-3': 0, 'daf-5': 1, 'daf-8-14': 0, 'dauer': 0, 'ins-1': 1, 'ins-18': 1, 'ins-7': 1, 'pher': 1, 'tax-4': 1}\n",
      "{'aap-1': 0, 'cmk-1': 0, 'daf-1-4': 0, 'daf-11': 0, 'hsf-1': 0, 'ins-1': 0}\n",
      "{'daf-12': 1, 'ins-7': 1}\n",
      "{'daf-12': 0, 'daf-8-14': 1}\n",
      "{'daf-12': 1, 'daf-16': 0, 'ins-1': 0, 'pher': 1, 'srbc': 1}\n",
      "{'dhs-16': 1, 'ins-18': 0}\n",
      "{'age-1': 1, 'daf-7': 1, 'ins-18': 1, 'pher': 0}\n",
      "{'akt': 0, 'ins-1': 0}\n",
      "{'age-1': 1, 'daf-3': 1, 'daf-5': 0, 'daf-7': 1, 'daf-9': 0, 'dauer': 1, 'ins-1': 1}\n",
      "{'daf-12': 0, 'daf-16': 0, 'daf-28': 0, 'daf-3': 1, 'daf-8-14': 1, 'dhs-16': 0, 'ins-1': 1}\n",
      "{'daf-5': 0, 'daf-9': 0, 'ins-18': 1}\n",
      "{'age-1': 1, 'dhs-16': 1, 'ins-7': 1}\n",
      "{'aap-1': 1, 'age-1': 1, 'cmk-1': 0, 'daf-1-4': 1, 'daf-12': 1, 'daf-3': 1, 'daf-9': 1, 'ins-18': 0, 'ins-7': 1, 'pdk-1': 1, 'pher': 1}\n",
      "{'daf-28': 1, 'daf-5': 0, 'ncr': 1}\n",
      "{'ins-18': 0, 'pdk-1': 1}\n",
      "{'aap-1': 1, 'age-1': 1, 'daf-11': 0, 'daf-3': 0, 'pher': 1}\n"
     ]
    }
   ],
   "source": [
    "#using GRASP method to search for knockins/knockouts that achieve the target\n",
    "from timeit import default_timer\n",
    "GRASP_iterations=2000\n",
    "start=default_timer()\n",
    "target = {'ins-7': 1, 'daf-7': 1, 'hsf-1': 0, 'daf-2': 1}\n",
    "interventions = sm.drivers.GRASP(target,ar.primes,GRASP_iterations)\n",
    "end=default_timer()\n",
    "print(\"Time running method:\",end-start)\n",
    "print(\"Sets found:\")\n",
    "for x in interventions: \n",
    "    print({k:v for k,v in sorted(x.items())})"
   ]
  },
  {
   "cell_type": "code",
   "execution_count": null,
   "id": "5813aa25",
   "metadata": {},
   "outputs": [],
   "source": []
  }
 ],
 "metadata": {
  "kernelspec": {
   "display_name": "Python 3",
   "language": "python",
   "name": "python3"
  },
  "language_info": {
   "codemirror_mode": {
    "name": "ipython",
    "version": 3
   },
   "file_extension": ".py",
   "mimetype": "text/x-python",
   "name": "python",
   "nbconvert_exporter": "python",
   "pygments_lexer": "ipython3",
   "version": "3.8.5"
  }
 },
 "nbformat": 4,
 "nbformat_minor": 5
}
